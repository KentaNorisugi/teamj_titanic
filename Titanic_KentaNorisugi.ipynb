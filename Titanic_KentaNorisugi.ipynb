{
 "cells": [
  {
   "cell_type": "markdown",
   "metadata": {},
   "source": [
    "# titanic の機械学習\n",
    "#### 乗杉賢太"
   ]
  },
  {
   "cell_type": "markdown",
   "metadata": {},
   "source": [
    "## 1．簡易的な機械学習による分析の準備と例\n",
    "\n",
    "#### 欠損値が多いために、データーの解析とデータの前処理が非常に重要な役割を果たすので、それらの処理の結果を検証するのを楽にするために以下のような流れのmainの関数と検証用のクラスを作った\n",
    "##### 決定木、ランダムフォレスト、勾配ブースティング、SVM,　MLP\n",
    "##### グリッドサーチによる、最適なパラメーターの調整\n",
    "##### パラーターの過剰適合回避のためのシャッフル分割交差検証を用いて精度を算出\n",
    "#####  最も精度の高いモデルを判定する\n",
    "##### examples\n",
    "\n",
    "## 2. 特徴量エンコーディングと欠損値の補充\n",
    "\n",
    "#### テキストデータを分類し、さらにその特徴を把握し処理を行う事で、１でランダムに行った分析よりも高い精度の結果を得る事ができた。0.82⇒0.86に上昇した\n",
    "##### 名前とタイトル、タイトルからのageの平均値を取って補う\n",
    "##### Cabinの統合\n",
    "#####  乗り込んだ港別の分析\n",
    "\n",
    "## 3. 欠損値について\n",
    "\n",
    "## 4.自動特徴量選択"
   ]
  },
  {
   "cell_type": "markdown",
   "metadata": {},
   "source": [
    "## 1. 簡易的な機械学習による分析の準備と例"
   ]
  },
  {
   "cell_type": "code",
   "execution_count": 1,
   "metadata": {},
   "outputs": [],
   "source": [
    "import pandas as pd\n",
    "import numpy as np\n",
    "from sklearn.model_selection import train_test_split\n",
    "from sklearn.tree import DecisionTreeClassifier\n",
    "from sklearn.ensemble import RandomForestClassifier\n",
    "from sklearn.ensemble import GradientBoostingClassifier\n",
    "from sklearn.svm import SVC\n",
    "from sklearn.neural_network import MLPClassifier\n",
    "import matplotlib.pyplot as plt\n",
    "import mglearn\n",
    "%matplotlib inline\n",
    "\n",
    "\n",
    "#なお検定houh方法はシャッフル分割交差検証を使う\n",
    "from sklearn.model_selection import ShuffleSplit\n",
    "from sklearn.model_selection import cross_val_score\n",
    "\n",
    "shuffle_splite = ShuffleSplit(test_size=.5,train_size=.5,n_splits=10)\n",
    "train = pd.DataFrame(pd.read_csv('train.csv'))\n",
    "test = pd.DataFrame(pd.read_csv('test.csv'))\n",
    "\n"
   ]
  },
  {
   "cell_type": "code",
   "execution_count": 2,
   "metadata": {},
   "outputs": [],
   "source": [
    "class ba(object):\n",
    "    #前処理を検証する際に毎回機械学習のコードを書くのを簡略化する\n",
    "    #決定木、ランダムフォレスト、勾配ブースティング、SVM,MLPのscoreを返す\n",
    "    #scaled は　データの標準化を行ったデータによるSVM MLP\n",
    "    #barは特徴量の重要性を棒グラフで表す\n",
    "    def __init__(self,df,train=[0],test=0):\n",
    "        self.df = df\n",
    "        X_train,X_test,y_train,y_test= train_test_split(df.iloc[:,2:],df[\"Survived\"],random_state=0)\n",
    "        if len(train) != 1:\n",
    "            X_train,X_test = train,test\n",
    "        self.X_train = X_train\n",
    "        self.X_test = X_test\n",
    "        self.y_train = y_train\n",
    "        self.y_test = y_test\n",
    "        self.importances = []\n",
    "        #Minmax scaled\n",
    "        min_on_training = self.X_train.min(axis=0)\n",
    "        range_on_training = (self.X_train - min_on_training).max(axis=0)\n",
    "        self.X_train_scaledM = (self.X_train - min_on_training)/range_on_training\n",
    "        min_on_test = self.X_test.min(axis=0)\n",
    "        range_on_test = (self.X_test - min_on_test).max(axis=0)\n",
    "        self.X_test_scaledM = (self.X_test - min_on_test)/range_on_test\n",
    "        #stadardization\n",
    "        mean_on_train=self.X_train.mean(axis=0)\n",
    "        std_on_train =self.X_train.std(axis=0)\n",
    "        self.X_train_scaledS = (self.X_train - mean_on_train)/std_on_train\n",
    "        self.X_test_scaledS = (self.X_test - mean_on_train)/std_on_train\n",
    "\n",
    "    def bar(self):\n",
    "        plt.clf()\n",
    "        left = range(self.importances.shape[0])\n",
    "        label = self.X_train.columns\n",
    "        height= self.importances\n",
    "        plt.figure(figsize=(12, 4), dpi=60)\n",
    "        plt.bar(left,height, tick_label=label)\n",
    "        return(self.importances)\n",
    "    def tree(self,depth=20):\n",
    "        tree = DecisionTreeClassifier(max_depth = depth,random_state = 0)\n",
    "        tree.fit(self.X_train, self.y_train)\n",
    "        score=cross_val_score(tree,self.X_train, self.y_train)\n",
    "        score = np.mean(score)\n",
    "        self.importances=tree.feature_importances_\n",
    "        return(score,tree.score(self.X_test, self.y_test))\n",
    "\n",
    "    def forest (self,depth = 30):\n",
    "        forest = RandomForestClassifier(n_estimators = depth,random_state=0)\n",
    "        forest.fit(self.X_train,self.y_train)\n",
    "        score=cross_val_score(forest,self.X_train, self.y_train)\n",
    "        score = np.mean(score)\n",
    "        self.importances=forest.feature_importances_\n",
    "        return(score,forest.score(self.X_test, self.y_test))\n",
    "\n",
    "    def forest_ensemble(self,depth = 5):\n",
    "        forest = GradientBoostingClassifier(max_depth = depth,random_state=0)\n",
    "        forest.fit(self.X_train,self.y_train)\n",
    "        score=cross_val_score(forest,self.X_train, self.y_train)\n",
    "        score = np.mean(score)\n",
    "        self.importances=forest.feature_importances_\n",
    "        return(score,forest.score(self.X_test, self.y_test))\n",
    "\n",
    "    def svc(self,gamma=0.001,C=100,method=\"S\"):\n",
    "        svc = SVC(gamma=gamma,C=C)\n",
    "        svc.fit(self.X_train,self.y_train)\n",
    "        score=cross_val_score(svc,self.X_train, self.y_train)\n",
    "        score = np.mean(score)\n",
    "        return(score,svc.score(self.X_test, self.y_test))\n",
    "\n",
    "    def svc_scaled(self,gamma=0.001,C=100, method=\"S\"):\n",
    "        if method ==\"M\":\n",
    "            svc = SVC(gamma=gamma,C=C)\n",
    "            svc.fit(self.X_train_scaledM,self.y_train)\n",
    "            score=cross_val_score(svc,self.X_train_scaledM, self.y_train)\n",
    "            score = np.mean(score)\n",
    "            return(score,svc.score(self.X_test_scaledM, self.y_test))\n",
    "        if method ==\"S\":\n",
    "            svc = SVC(gamma=gamma,C=C)\n",
    "            svc.fit(self.X_train_scaledS,self.y_train)\n",
    "            score=cross_val_score(svc,self.X_train_scaledS, self.y_train)\n",
    "            score = np.mean(score)\n",
    "            return(score,svc.score(self.X_test_scaledS, self.y_test))\n",
    "\n",
    "    def mlp(self,h=10,method=\"S\"):\n",
    "        mlp = MLPClassifier(solver ='lbfgs', random_state=42,hidden_layer_sizes=[h,h])\n",
    "        mlp.fit(self.X_train,self.y_train)\n",
    "        score=cross_val_score(mlp,self.X_train, self.y_train)\n",
    "        score = np.mean(score)\n",
    "        return(score,mlp.score(self.X_test, self.y_test))\n",
    "    \n",
    "    def mlp_scaled(self,h=10,method=\"S\"):\n",
    "        if method ==\"M\":\n",
    "            mlp = MLPClassifier(solver ='lbfgs',random_state=42,hidden_layer_sizes=[h,h])\n",
    "            mlp.fit(self.X_train_scaledM,self.y_train)\n",
    "            score=cross_val_score(mlp,self.X_train_scaledM, self.y_train)\n",
    "            score = np.mean(score)\n",
    "            return(score,mlp.score(self.X_test_scaledM, self.y_test))     \n",
    "        if method ==\"S\":\n",
    "            mlp = MLPClassifier(solver ='lbfgs',random_state=42,hidden_layer_sizes=[h,h])\n",
    "            mlp.fit(self.X_train_scaledS,self.y_train)\n",
    "            score=cross_val_score(mlp,self.X_train_scaledS, self.y_train)\n",
    "            score = np.mean(score)\n",
    "            return(score,mlp.score(self.X_test_scaledS, self.y_test))               "
   ]
  },
  {
   "cell_type": "code",
   "execution_count": 3,
   "metadata": {},
   "outputs": [],
   "source": [
    "# forestとtreeに有用　ensembleにも適用できるが時間がかかってしまうかつ深くなっても精度が上がらない\n",
    "def max_depth(mcl):\n",
    "    c,d = 0,0\n",
    "    for i in range(30):\n",
    "        b = mcl(depth=i+1)[1]\n",
    "        if c < b:\n",
    "            c = b\n",
    "            d = i+1\n",
    "    return(c,d)\n",
    "\n",
    "def max_depth_fe(mcl):\n",
    "    c,d = 0,0\n",
    "    for i in range(5):\n",
    "        b = mcl(depth=i+1)[1]\n",
    "        if c < b:\n",
    "            c = b\n",
    "            d = i+1\n",
    "    return(c,d)\n",
    "\n",
    "def max_svc(mcl,method=\"S\"):\n",
    "    best_score,c,g = 0,0,0\n",
    "    for gamma in [0.001,0.01,0.1,1,10,100]:\n",
    "        for C in [0.001,0.01,0.1,1,10,100]:\n",
    "            score = mcl(gamma=gamma,C=C,method=method)[1]\n",
    "            \n",
    "            if score > best_score:\n",
    "                best_score = score\n",
    "                c,g = C,gamma \n",
    "    return(best_score,c,g)\n",
    "def max_mlp_layer(mcl,method=\"S\"):\n",
    "    best_score,h= 0,0\n",
    "    for n_hidden_nodes in [10,20,30,50,40,50,60,70,80,90,100]:\n",
    "        score =mcl(h=n_hidden_nodes,method=\"S\")[1]\n",
    "        if score > best_score:\n",
    "            best_score = score\n",
    "            h= n_hidden_nodes\n",
    "    return(best_score,h,h)\n",
    "    "
   ]
  },
  {
   "cell_type": "code",
   "execution_count": 4,
   "metadata": {},
   "outputs": [],
   "source": [
    "def main(mcl):\n",
    "    a = []\n",
    "    maxtree = max_depth(mcl.tree)\n",
    "    print(\"maxtree\",\"score,depth:\",maxtree)    \n",
    "    maxforest = max_depth(mcl.forest)\n",
    "    print(\"maxforest\",\"score,depth:\",maxforest)    \n",
    "    maxforest_e = max_depth_fe(mcl.forest_ensemble)\n",
    "    print(\"maxforest_e\",\"score,depth:\",maxforest_e)\n",
    "    maxsvc = max_svc(mcl.svc)\n",
    "    print('maxsvc','score,C,gamma',maxsvc)\n",
    "    mlp = mcl.mlp()\n",
    "    print(\"mlp\",\"score:\",mlp[1])\n",
    "    \n",
    "#    a.extend([maxtree[0], maxforest[0], forest_e[1], maxsvc[0], maxsvc_s[0],mlp[1],mlp_s[1]])\n",
    "    a.extend([maxtree[0], maxforest[0], maxforest_e[0], maxsvc[0], mlp[1]])\n",
    "    b = [maxtree, maxforest, maxforest_e, maxsvc, mlp]\n",
    "    max_score = max(a)\n",
    "    for i in range(len(a)):\n",
    "        if max_score == a[i]:\n",
    "            print(\"best score:\",b[i])\n",
    "\n",
    "def main_scaled(mcl):\n",
    "    maxsvc_s = max_svc(mcl.svc_scaled,method=\"S\")\n",
    "    print('maxsvc_s standardization','score,C,gamma',maxsvc_s)\n",
    "    maxsvc_s = max_svc(mcl.svc_scaled,method=\"M\")\n",
    "    print('maxsvc_s minmax','score,C,gamma',maxsvc_s)\n",
    "    mlp_s = max_mlp(mcl.mlp_scaled,method=\"S\")\n",
    "    print(\"maxmlp_s standardization\",\"score:\",mlp_s)\n",
    "    mlp_s = max_mlp(mcl.mlp_scaled,method=\"M\")\n",
    "    print(\"maxmlp_s MinMax\",\"score:\",mlp_s)\n",
    "    "
   ]
  },
  {
   "cell_type": "markdown",
   "metadata": {},
   "source": [
    "### example 1\n",
    "##### 名前　港名　キャビン　チケットを排除\n",
    "##### 欠損値を削除\n",
    "##### hot one encoding を使い特徴量を分類"
   ]
  },
  {
   "cell_type": "code",
   "execution_count": 5,
   "metadata": {},
   "outputs": [],
   "source": [
    "df_train = train.drop([\"Name\",\"Embarked\",\"Cabin\",\"Ticket\"],axis=1)\n",
    "df_test = test.drop([\"Name\",\"Embarked\",\"Cabin\",\"Ticket\"],axis=1)\n",
    "df_train = pd.get_dummies(df_train)\n",
    "df_train = df_train.dropna(axis=0,how='any')"
   ]
  },
  {
   "cell_type": "code",
   "execution_count": 6,
   "metadata": {},
   "outputs": [
    {
     "name": "stdout",
     "output_type": "stream",
     "text": [
      "maxtree score,depth: (0.8044692737430168, 4)\n",
      "maxforest score,depth: (0.7932960893854749, 8)\n",
      "maxforest_e score,depth: (0.8100558659217877, 2)\n",
      "maxsvc score,C,gamma (0.776536312849162, 100, 0.001)\n",
      "mlp score: 0.7988826815642458\n",
      "best score: (0.8100558659217877, 2)\n"
     ]
    },
    {
     "data": {
      "text/plain": [
       "array([0.19, 0.29, 0.14, 0.06, 0.08, 0.05, 0.19])"
      ]
     },
     "execution_count": 6,
     "metadata": {},
     "output_type": "execute_result"
    },
    {
     "data": {
      "text/plain": [
       "<Figure size 432x288 with 0 Axes>"
      ]
     },
     "metadata": {},
     "output_type": "display_data"
    },
    {
     "data": {
      "image/png": "[encoded data removed]",
      "text/plain": [
       "<Figure size 720x240 with 1 Axes>"
      ]
     },
     "metadata": {},
     "output_type": "display_data"
    }
   ],
   "source": [
    "a = ba(df_train)\n",
    "main(a)\n",
    "a.forest_ensemble(depth=1)\n",
    "a.bar()"
   ]
  },
  {
   "cell_type": "markdown",
   "metadata": {
    "collapsed": true
   },
   "source": [
    "### example 1-2\n",
    "##### 名前　港名　キャビン　チケット parch　fareを削除\n",
    "##### 欠損値を削除\n",
    "##### hot one encoding を使い特徴量を分類"
   ]
  },
  {
   "cell_type": "code",
   "execution_count": 7,
   "metadata": {},
   "outputs": [],
   "source": [
    "df_train = train.drop([\"Name\",\"Embarked\",\"Cabin\",\"Ticket\",\"Parch\",\"Fare\"],axis=1)\n",
    "df_test = test.drop([\"Name\",\"Embarked\",\"Cabin\",\"Ticket\"],axis=1)\n",
    "df_train = pd.get_dummies(df_train)\n",
    "df_train = df_train.dropna(axis=0,how='any')"
   ]
  },
  {
   "cell_type": "code",
   "execution_count": 8,
   "metadata": {},
   "outputs": [
    {
     "name": "stdout",
     "output_type": "stream",
     "text": [
      "maxtree score,depth: (0.7877094972067039, 4)\n",
      "maxforest score,depth: (0.7988826815642458, 29)\n",
      "maxforest_e score,depth: (0.8044692737430168, 2)\n",
      "maxsvc score,C,gamma (0.8100558659217877, 10, 0.1)\n",
      "mlp score: 0.776536312849162\n",
      "best score: (0.8100558659217877, 10, 0.1)\n"
     ]
    },
    {
     "data": {
      "text/plain": [
       "array([0.16060978, 0.35486514, 0.13092278, 0.        , 0.35360229])"
      ]
     },
     "execution_count": 8,
     "metadata": {},
     "output_type": "execute_result"
    },
    {
     "data": {
      "text/plain": [
       "<Figure size 432x288 with 0 Axes>"
      ]
     },
     "metadata": {},
     "output_type": "display_data"
    },
    {
     "data": {
      "image/png": "[encoded data removed]",
      "text/plain": [
       "<Figure size 720x240 with 1 Axes>"
      ]
     },
     "metadata": {},
     "output_type": "display_data"
    }
   ],
   "source": [
    "a = ba(df_train)\n",
    "main(a)\n",
    "a.tree()\n",
    "a.bar()"
   ]
  },
  {
   "cell_type": "code",
   "execution_count": 9,
   "metadata": {},
   "outputs": [
    {
     "data": {
      "text/plain": [
       "(0.8100558659217877, 100, 0.01)"
      ]
     },
     "execution_count": 9,
     "metadata": {},
     "output_type": "execute_result"
    }
   ],
   "source": [
    "max_svc(a.svc_scaled)"
   ]
  },
  {
   "cell_type": "markdown",
   "metadata": {},
   "source": [
    "### example 1-3\n",
    "##### 名前　港名　キャビン　チケット parch fare Pclass SibSp を削除\n",
    "##### 欠損値を削除\n",
    "##### hot one encoding を使い特徴量を分類"
   ]
  },
  {
   "cell_type": "code",
   "execution_count": 10,
   "metadata": {},
   "outputs": [
    {
     "data": {
      "text/html": [
       "<div>\n",
       "<style scoped>\n",
       "    .dataframe tbody tr th:only-of-type {\n",
       "        vertical-align: middle;\n",
       "    }\n",
       "\n",
       "    .dataframe tbody tr th {\n",
       "        vertical-align: top;\n",
       "    }\n",
       "\n",
       "    .dataframe thead th {\n",
       "        text-align: right;\n",
       "    }\n",
       "</style>\n",
       "<table border=\"1\" class=\"dataframe\">\n",
       "  <thead>\n",
       "    <tr style=\"text-align: right;\">\n",
       "      <th></th>\n",
       "      <th>PassengerId</th>\n",
       "      <th>Survived</th>\n",
       "      <th>Age</th>\n",
       "      <th>Sex_female</th>\n",
       "      <th>Sex_male</th>\n",
       "    </tr>\n",
       "  </thead>\n",
       "  <tbody>\n",
       "    <tr>\n",
       "      <th>0</th>\n",
       "      <td>1</td>\n",
       "      <td>0</td>\n",
       "      <td>22.0</td>\n",
       "      <td>0</td>\n",
       "      <td>1</td>\n",
       "    </tr>\n",
       "    <tr>\n",
       "      <th>1</th>\n",
       "      <td>2</td>\n",
       "      <td>1</td>\n",
       "      <td>38.0</td>\n",
       "      <td>1</td>\n",
       "      <td>0</td>\n",
       "    </tr>\n",
       "    <tr>\n",
       "      <th>2</th>\n",
       "      <td>3</td>\n",
       "      <td>1</td>\n",
       "      <td>26.0</td>\n",
       "      <td>1</td>\n",
       "      <td>0</td>\n",
       "    </tr>\n",
       "    <tr>\n",
       "      <th>3</th>\n",
       "      <td>4</td>\n",
       "      <td>1</td>\n",
       "      <td>35.0</td>\n",
       "      <td>1</td>\n",
       "      <td>0</td>\n",
       "    </tr>\n",
       "    <tr>\n",
       "      <th>4</th>\n",
       "      <td>5</td>\n",
       "      <td>0</td>\n",
       "      <td>35.0</td>\n",
       "      <td>0</td>\n",
       "      <td>1</td>\n",
       "    </tr>\n",
       "    <tr>\n",
       "      <th>6</th>\n",
       "      <td>7</td>\n",
       "      <td>0</td>\n",
       "      <td>54.0</td>\n",
       "      <td>0</td>\n",
       "      <td>1</td>\n",
       "    </tr>\n",
       "    <tr>\n",
       "      <th>7</th>\n",
       "      <td>8</td>\n",
       "      <td>0</td>\n",
       "      <td>2.0</td>\n",
       "      <td>0</td>\n",
       "      <td>1</td>\n",
       "    </tr>\n",
       "    <tr>\n",
       "      <th>8</th>\n",
       "      <td>9</td>\n",
       "      <td>1</td>\n",
       "      <td>27.0</td>\n",
       "      <td>1</td>\n",
       "      <td>0</td>\n",
       "    </tr>\n",
       "    <tr>\n",
       "      <th>9</th>\n",
       "      <td>10</td>\n",
       "      <td>1</td>\n",
       "      <td>14.0</td>\n",
       "      <td>1</td>\n",
       "      <td>0</td>\n",
       "    </tr>\n",
       "    <tr>\n",
       "      <th>10</th>\n",
       "      <td>11</td>\n",
       "      <td>1</td>\n",
       "      <td>4.0</td>\n",
       "      <td>1</td>\n",
       "      <td>0</td>\n",
       "    </tr>\n",
       "    <tr>\n",
       "      <th>11</th>\n",
       "      <td>12</td>\n",
       "      <td>1</td>\n",
       "      <td>58.0</td>\n",
       "      <td>1</td>\n",
       "      <td>0</td>\n",
       "    </tr>\n",
       "    <tr>\n",
       "      <th>12</th>\n",
       "      <td>13</td>\n",
       "      <td>0</td>\n",
       "      <td>20.0</td>\n",
       "      <td>0</td>\n",
       "      <td>1</td>\n",
       "    </tr>\n",
       "    <tr>\n",
       "      <th>13</th>\n",
       "      <td>14</td>\n",
       "      <td>0</td>\n",
       "      <td>39.0</td>\n",
       "      <td>0</td>\n",
       "      <td>1</td>\n",
       "    </tr>\n",
       "    <tr>\n",
       "      <th>14</th>\n",
       "      <td>15</td>\n",
       "      <td>0</td>\n",
       "      <td>14.0</td>\n",
       "      <td>1</td>\n",
       "      <td>0</td>\n",
       "    </tr>\n",
       "    <tr>\n",
       "      <th>15</th>\n",
       "      <td>16</td>\n",
       "      <td>1</td>\n",
       "      <td>55.0</td>\n",
       "      <td>1</td>\n",
       "      <td>0</td>\n",
       "    </tr>\n",
       "    <tr>\n",
       "      <th>16</th>\n",
       "      <td>17</td>\n",
       "      <td>0</td>\n",
       "      <td>2.0</td>\n",
       "      <td>0</td>\n",
       "      <td>1</td>\n",
       "    </tr>\n",
       "    <tr>\n",
       "      <th>18</th>\n",
       "      <td>19</td>\n",
       "      <td>0</td>\n",
       "      <td>31.0</td>\n",
       "      <td>1</td>\n",
       "      <td>0</td>\n",
       "    </tr>\n",
       "    <tr>\n",
       "      <th>20</th>\n",
       "      <td>21</td>\n",
       "      <td>0</td>\n",
       "      <td>35.0</td>\n",
       "      <td>0</td>\n",
       "      <td>1</td>\n",
       "    </tr>\n",
       "    <tr>\n",
       "      <th>21</th>\n",
       "      <td>22</td>\n",
       "      <td>1</td>\n",
       "      <td>34.0</td>\n",
       "      <td>0</td>\n",
       "      <td>1</td>\n",
       "    </tr>\n",
       "    <tr>\n",
       "      <th>22</th>\n",
       "      <td>23</td>\n",
       "      <td>1</td>\n",
       "      <td>15.0</td>\n",
       "      <td>1</td>\n",
       "      <td>0</td>\n",
       "    </tr>\n",
       "    <tr>\n",
       "      <th>23</th>\n",
       "      <td>24</td>\n",
       "      <td>1</td>\n",
       "      <td>28.0</td>\n",
       "      <td>0</td>\n",
       "      <td>1</td>\n",
       "    </tr>\n",
       "    <tr>\n",
       "      <th>24</th>\n",
       "      <td>25</td>\n",
       "      <td>0</td>\n",
       "      <td>8.0</td>\n",
       "      <td>1</td>\n",
       "      <td>0</td>\n",
       "    </tr>\n",
       "    <tr>\n",
       "      <th>25</th>\n",
       "      <td>26</td>\n",
       "      <td>1</td>\n",
       "      <td>38.0</td>\n",
       "      <td>1</td>\n",
       "      <td>0</td>\n",
       "    </tr>\n",
       "    <tr>\n",
       "      <th>27</th>\n",
       "      <td>28</td>\n",
       "      <td>0</td>\n",
       "      <td>19.0</td>\n",
       "      <td>0</td>\n",
       "      <td>1</td>\n",
       "    </tr>\n",
       "    <tr>\n",
       "      <th>30</th>\n",
       "      <td>31</td>\n",
       "      <td>0</td>\n",
       "      <td>40.0</td>\n",
       "      <td>0</td>\n",
       "      <td>1</td>\n",
       "    </tr>\n",
       "    <tr>\n",
       "      <th>33</th>\n",
       "      <td>34</td>\n",
       "      <td>0</td>\n",
       "      <td>66.0</td>\n",
       "      <td>0</td>\n",
       "      <td>1</td>\n",
       "    </tr>\n",
       "    <tr>\n",
       "      <th>34</th>\n",
       "      <td>35</td>\n",
       "      <td>0</td>\n",
       "      <td>28.0</td>\n",
       "      <td>0</td>\n",
       "      <td>1</td>\n",
       "    </tr>\n",
       "    <tr>\n",
       "      <th>35</th>\n",
       "      <td>36</td>\n",
       "      <td>0</td>\n",
       "      <td>42.0</td>\n",
       "      <td>0</td>\n",
       "      <td>1</td>\n",
       "    </tr>\n",
       "    <tr>\n",
       "      <th>37</th>\n",
       "      <td>38</td>\n",
       "      <td>0</td>\n",
       "      <td>21.0</td>\n",
       "      <td>0</td>\n",
       "      <td>1</td>\n",
       "    </tr>\n",
       "    <tr>\n",
       "      <th>38</th>\n",
       "      <td>39</td>\n",
       "      <td>0</td>\n",
       "      <td>18.0</td>\n",
       "      <td>1</td>\n",
       "      <td>0</td>\n",
       "    </tr>\n",
       "    <tr>\n",
       "      <th>...</th>\n",
       "      <td>...</td>\n",
       "      <td>...</td>\n",
       "      <td>...</td>\n",
       "      <td>...</td>\n",
       "      <td>...</td>\n",
       "    </tr>\n",
       "    <tr>\n",
       "      <th>856</th>\n",
       "      <td>857</td>\n",
       "      <td>1</td>\n",
       "      <td>45.0</td>\n",
       "      <td>1</td>\n",
       "      <td>0</td>\n",
       "    </tr>\n",
       "    <tr>\n",
       "      <th>857</th>\n",
       "      <td>858</td>\n",
       "      <td>1</td>\n",
       "      <td>51.0</td>\n",
       "      <td>0</td>\n",
       "      <td>1</td>\n",
       "    </tr>\n",
       "    <tr>\n",
       "      <th>858</th>\n",
       "      <td>859</td>\n",
       "      <td>1</td>\n",
       "      <td>24.0</td>\n",
       "      <td>1</td>\n",
       "      <td>0</td>\n",
       "    </tr>\n",
       "    <tr>\n",
       "      <th>860</th>\n",
       "      <td>861</td>\n",
       "      <td>0</td>\n",
       "      <td>41.0</td>\n",
       "      <td>0</td>\n",
       "      <td>1</td>\n",
       "    </tr>\n",
       "    <tr>\n",
       "      <th>861</th>\n",
       "      <td>862</td>\n",
       "      <td>0</td>\n",
       "      <td>21.0</td>\n",
       "      <td>0</td>\n",
       "      <td>1</td>\n",
       "    </tr>\n",
       "    <tr>\n",
       "      <th>862</th>\n",
       "      <td>863</td>\n",
       "      <td>1</td>\n",
       "      <td>48.0</td>\n",
       "      <td>1</td>\n",
       "      <td>0</td>\n",
       "    </tr>\n",
       "    <tr>\n",
       "      <th>864</th>\n",
       "      <td>865</td>\n",
       "      <td>0</td>\n",
       "      <td>24.0</td>\n",
       "      <td>0</td>\n",
       "      <td>1</td>\n",
       "    </tr>\n",
       "    <tr>\n",
       "      <th>865</th>\n",
       "      <td>866</td>\n",
       "      <td>1</td>\n",
       "      <td>42.0</td>\n",
       "      <td>1</td>\n",
       "      <td>0</td>\n",
       "    </tr>\n",
       "    <tr>\n",
       "      <th>866</th>\n",
       "      <td>867</td>\n",
       "      <td>1</td>\n",
       "      <td>27.0</td>\n",
       "      <td>1</td>\n",
       "      <td>0</td>\n",
       "    </tr>\n",
       "    <tr>\n",
       "      <th>867</th>\n",
       "      <td>868</td>\n",
       "      <td>0</td>\n",
       "      <td>31.0</td>\n",
       "      <td>0</td>\n",
       "      <td>1</td>\n",
       "    </tr>\n",
       "    <tr>\n",
       "      <th>869</th>\n",
       "      <td>870</td>\n",
       "      <td>1</td>\n",
       "      <td>4.0</td>\n",
       "      <td>0</td>\n",
       "      <td>1</td>\n",
       "    </tr>\n",
       "    <tr>\n",
       "      <th>870</th>\n",
       "      <td>871</td>\n",
       "      <td>0</td>\n",
       "      <td>26.0</td>\n",
       "      <td>0</td>\n",
       "      <td>1</td>\n",
       "    </tr>\n",
       "    <tr>\n",
       "      <th>871</th>\n",
       "      <td>872</td>\n",
       "      <td>1</td>\n",
       "      <td>47.0</td>\n",
       "      <td>1</td>\n",
       "      <td>0</td>\n",
       "    </tr>\n",
       "    <tr>\n",
       "      <th>872</th>\n",
       "      <td>873</td>\n",
       "      <td>0</td>\n",
       "      <td>33.0</td>\n",
       "      <td>0</td>\n",
       "      <td>1</td>\n",
       "    </tr>\n",
       "    <tr>\n",
       "      <th>873</th>\n",
       "      <td>874</td>\n",
       "      <td>0</td>\n",
       "      <td>47.0</td>\n",
       "      <td>0</td>\n",
       "      <td>1</td>\n",
       "    </tr>\n",
       "    <tr>\n",
       "      <th>874</th>\n",
       "      <td>875</td>\n",
       "      <td>1</td>\n",
       "      <td>28.0</td>\n",
       "      <td>1</td>\n",
       "      <td>0</td>\n",
       "    </tr>\n",
       "    <tr>\n",
       "      <th>875</th>\n",
       "      <td>876</td>\n",
       "      <td>1</td>\n",
       "      <td>15.0</td>\n",
       "      <td>1</td>\n",
       "      <td>0</td>\n",
       "    </tr>\n",
       "    <tr>\n",
       "      <th>876</th>\n",
       "      <td>877</td>\n",
       "      <td>0</td>\n",
       "      <td>20.0</td>\n",
       "      <td>0</td>\n",
       "      <td>1</td>\n",
       "    </tr>\n",
       "    <tr>\n",
       "      <th>877</th>\n",
       "      <td>878</td>\n",
       "      <td>0</td>\n",
       "      <td>19.0</td>\n",
       "      <td>0</td>\n",
       "      <td>1</td>\n",
       "    </tr>\n",
       "    <tr>\n",
       "      <th>879</th>\n",
       "      <td>880</td>\n",
       "      <td>1</td>\n",
       "      <td>56.0</td>\n",
       "      <td>1</td>\n",
       "      <td>0</td>\n",
       "    </tr>\n",
       "    <tr>\n",
       "      <th>880</th>\n",
       "      <td>881</td>\n",
       "      <td>1</td>\n",
       "      <td>25.0</td>\n",
       "      <td>1</td>\n",
       "      <td>0</td>\n",
       "    </tr>\n",
       "    <tr>\n",
       "      <th>881</th>\n",
       "      <td>882</td>\n",
       "      <td>0</td>\n",
       "      <td>33.0</td>\n",
       "      <td>0</td>\n",
       "      <td>1</td>\n",
       "    </tr>\n",
       "    <tr>\n",
       "      <th>882</th>\n",
       "      <td>883</td>\n",
       "      <td>0</td>\n",
       "      <td>22.0</td>\n",
       "      <td>1</td>\n",
       "      <td>0</td>\n",
       "    </tr>\n",
       "    <tr>\n",
       "      <th>883</th>\n",
       "      <td>884</td>\n",
       "      <td>0</td>\n",
       "      <td>28.0</td>\n",
       "      <td>0</td>\n",
       "      <td>1</td>\n",
       "    </tr>\n",
       "    <tr>\n",
       "      <th>884</th>\n",
       "      <td>885</td>\n",
       "      <td>0</td>\n",
       "      <td>25.0</td>\n",
       "      <td>0</td>\n",
       "      <td>1</td>\n",
       "    </tr>\n",
       "    <tr>\n",
       "      <th>885</th>\n",
       "      <td>886</td>\n",
       "      <td>0</td>\n",
       "      <td>39.0</td>\n",
       "      <td>1</td>\n",
       "      <td>0</td>\n",
       "    </tr>\n",
       "    <tr>\n",
       "      <th>886</th>\n",
       "      <td>887</td>\n",
       "      <td>0</td>\n",
       "      <td>27.0</td>\n",
       "      <td>0</td>\n",
       "      <td>1</td>\n",
       "    </tr>\n",
       "    <tr>\n",
       "      <th>887</th>\n",
       "      <td>888</td>\n",
       "      <td>1</td>\n",
       "      <td>19.0</td>\n",
       "      <td>1</td>\n",
       "      <td>0</td>\n",
       "    </tr>\n",
       "    <tr>\n",
       "      <th>889</th>\n",
       "      <td>890</td>\n",
       "      <td>1</td>\n",
       "      <td>26.0</td>\n",
       "      <td>0</td>\n",
       "      <td>1</td>\n",
       "    </tr>\n",
       "    <tr>\n",
       "      <th>890</th>\n",
       "      <td>891</td>\n",
       "      <td>0</td>\n",
       "      <td>32.0</td>\n",
       "      <td>0</td>\n",
       "      <td>1</td>\n",
       "    </tr>\n",
       "  </tbody>\n",
       "</table>\n",
       "<p>714 rows × 5 columns</p>\n",
       "</div>"
      ],
      "text/plain": [
       "     PassengerId  Survived   Age  Sex_female  Sex_male\n",
       "0              1         0  22.0           0         1\n",
       "1              2         1  38.0           1         0\n",
       "2              3         1  26.0           1         0\n",
       "3              4         1  35.0           1         0\n",
       "4              5         0  35.0           0         1\n",
       "6              7         0  54.0           0         1\n",
       "7              8         0   2.0           0         1\n",
       "8              9         1  27.0           1         0\n",
       "9             10         1  14.0           1         0\n",
       "10            11         1   4.0           1         0\n",
       "11            12         1  58.0           1         0\n",
       "12            13         0  20.0           0         1\n",
       "13            14         0  39.0           0         1\n",
       "14            15         0  14.0           1         0\n",
       "15            16         1  55.0           1         0\n",
       "16            17         0   2.0           0         1\n",
       "18            19         0  31.0           1         0\n",
       "20            21         0  35.0           0         1\n",
       "21            22         1  34.0           0         1\n",
       "22            23         1  15.0           1         0\n",
       "23            24         1  28.0           0         1\n",
       "24            25         0   8.0           1         0\n",
       "25            26         1  38.0           1         0\n",
       "27            28         0  19.0           0         1\n",
       "30            31         0  40.0           0         1\n",
       "33            34         0  66.0           0         1\n",
       "34            35         0  28.0           0         1\n",
       "35            36         0  42.0           0         1\n",
       "37            38         0  21.0           0         1\n",
       "38            39         0  18.0           1         0\n",
       "..           ...       ...   ...         ...       ...\n",
       "856          857         1  45.0           1         0\n",
       "857          858         1  51.0           0         1\n",
       "858          859         1  24.0           1         0\n",
       "860          861         0  41.0           0         1\n",
       "861          862         0  21.0           0         1\n",
       "862          863         1  48.0           1         0\n",
       "864          865         0  24.0           0         1\n",
       "865          866         1  42.0           1         0\n",
       "866          867         1  27.0           1         0\n",
       "867          868         0  31.0           0         1\n",
       "869          870         1   4.0           0         1\n",
       "870          871         0  26.0           0         1\n",
       "871          872         1  47.0           1         0\n",
       "872          873         0  33.0           0         1\n",
       "873          874         0  47.0           0         1\n",
       "874          875         1  28.0           1         0\n",
       "875          876         1  15.0           1         0\n",
       "876          877         0  20.0           0         1\n",
       "877          878         0  19.0           0         1\n",
       "879          880         1  56.0           1         0\n",
       "880          881         1  25.0           1         0\n",
       "881          882         0  33.0           0         1\n",
       "882          883         0  22.0           1         0\n",
       "883          884         0  28.0           0         1\n",
       "884          885         0  25.0           0         1\n",
       "885          886         0  39.0           1         0\n",
       "886          887         0  27.0           0         1\n",
       "887          888         1  19.0           1         0\n",
       "889          890         1  26.0           0         1\n",
       "890          891         0  32.0           0         1\n",
       "\n",
       "[714 rows x 5 columns]"
      ]
     },
     "execution_count": 10,
     "metadata": {},
     "output_type": "execute_result"
    }
   ],
   "source": [
    "df_train = train.drop([\"Name\",\"Embarked\",\"Cabin\",\"Ticket\",\"Parch\",\"Fare\",\"Pclass\",\"SibSp\"],axis=1)\n",
    "df_test = test.drop([\"Name\",\"Embarked\",\"Cabin\",\"Ticket\"],axis=1)\n",
    "df_train = pd.get_dummies(df_train)\n",
    "df_train = df_train.dropna(axis=0,how='any')\n",
    "df_train"
   ]
  },
  {
   "cell_type": "code",
   "execution_count": 11,
   "metadata": {},
   "outputs": [
    {
     "name": "stdout",
     "output_type": "stream",
     "text": [
      "maxtree score,depth: (0.776536312849162, 1)\n",
      "maxforest score,depth: (0.7541899441340782, 12)\n",
      "maxforest_e score,depth: (0.7877094972067039, 1)\n",
      "maxsvc score,C,gamma (0.7821229050279329, 100, 0.01)\n",
      "mlp score: 0.776536312849162\n",
      "best score: (0.7877094972067039, 1)\n"
     ]
    }
   ],
   "source": [
    "a = ba(df_train)\n",
    "main(a)"
   ]
  },
  {
   "cell_type": "markdown",
   "metadata": {},
   "source": [
    "### example 2\n",
    "##### NAN をmissingに変換 名前とチケット番号を消す\n",
    "##### cabinデータをアルファベット事に分類\n",
    "##### hot one encoding を使い特徴量を分類"
   ]
  },
  {
   "cell_type": "code",
   "execution_count": 12,
   "metadata": {},
   "outputs": [
    {
     "name": "stderr",
     "output_type": "stream",
     "text": [
      "/Users/Ken/anaconda3/lib/python3.6/site-packages/ipykernel_launcher.py:4: FutureWarning: set_value is deprecated and will be removed in a future release. Please use .at[] or .iat[] accessors instead\n",
      "  after removing the cwd from sys.path.\n"
     ]
    }
   ],
   "source": [
    "df_train = train.drop([\"Name\",\"Ticket\"],axis=1)\n",
    "df_train=df_train.fillna('missing')\n",
    "for i in range(df_train.shape[0]):\n",
    "    df_train.set_value(index= i,col=\"Cabin\",value = df_train.values[i][8][0])\n",
    "df_train = pd.get_dummies(df_train)\n"
   ]
  },
  {
   "cell_type": "code",
   "execution_count": 13,
   "metadata": {},
   "outputs": [
    {
     "name": "stdout",
     "output_type": "stream",
     "text": [
      "maxtree score,depth: (0.8161434977578476, 8)\n",
      "maxforest score,depth: (0.820627802690583, 20)\n",
      "maxforest_e score,depth: (0.8071748878923767, 2)\n",
      "maxsvc score,C,gamma (0.7937219730941704, 10, 0.1)\n",
      "mlp score: 0.8071748878923767\n",
      "best score: (0.820627802690583, 20)\n"
     ]
    }
   ],
   "source": [
    "a= ba(df_train)\n",
    "main(a)"
   ]
  },
  {
   "cell_type": "code",
   "execution_count": 14,
   "metadata": {},
   "outputs": [
    {
     "data": {
      "text/plain": [
       "array([0.07435521, 0.02957981, 0.02145749, 0.17875122, 0.32853516,\n",
       "       0.        , 0.        , 0.00572047, 0.        , 0.01029442,\n",
       "       0.00376055, 0.        , 0.00622092, 0.01522414, 0.01042546,\n",
       "       0.00656177, 0.        , 0.        , 0.00246131, 0.00144331,\n",
       "       0.        , 0.        , 0.00472101, 0.        , 0.        ,\n",
       "       0.00429777, 0.        , 0.        , 0.01058687, 0.00521664,\n",
       "       0.00491173, 0.00278513, 0.        , 0.        , 0.00166678,\n",
       "       0.00154177, 0.        , 0.0007074 , 0.        , 0.00991692,\n",
       "       0.01871911, 0.00816068, 0.01254464, 0.        , 0.00404322,\n",
       "       0.00317569, 0.00455058, 0.01129792, 0.01129707, 0.        ,\n",
       "       0.        , 0.00622435, 0.        , 0.00423846, 0.        ,\n",
       "       0.        , 0.        , 0.01276582, 0.00144936, 0.00321539,\n",
       "       0.        , 0.        , 0.00063151, 0.        , 0.00437695,\n",
       "       0.00927772, 0.        , 0.        , 0.0095696 , 0.        ,\n",
       "       0.00259017, 0.00192489, 0.        , 0.00582278, 0.        ,\n",
       "       0.0062792 , 0.        , 0.        , 0.        , 0.00631966,\n",
       "       0.        , 0.        , 0.        , 0.        , 0.        ,\n",
       "       0.        , 0.        , 0.00523267, 0.        , 0.00613967,\n",
       "       0.        , 0.        , 0.        , 0.00512802, 0.01828505,\n",
       "       0.        , 0.        , 0.00863391, 0.        , 0.00552609,\n",
       "       0.00345356, 0.        , 0.        , 0.02734015, 0.01087695,\n",
       "       0.00345356, 0.01631235, 0.        ])"
      ]
     },
     "execution_count": 14,
     "metadata": {},
     "output_type": "execute_result"
    },
    {
     "data": {
      "text/plain": [
       "<Figure size 432x288 with 0 Axes>"
      ]
     },
     "metadata": {},
     "output_type": "display_data"
    },
    {
     "data": {
      "image/png": "[encoded data removed]",
      "text/plain": [
       "<Figure size 720x240 with 1 Axes>"
      ]
     },
     "metadata": {},
     "output_type": "display_data"
    }
   ],
   "source": [
    "a.tree(depth = 20)\n",
    "a.bar()"
   ]
  },
  {
   "cell_type": "markdown",
   "metadata": {
    "collapsed": true
   },
   "source": [
    "## 2. 特徴量エンコーディングと欠損値の補充"
   ]
  },
  {
   "cell_type": "code",
   "execution_count": 2,
   "metadata": {
    "collapsed": true
   },
   "outputs": [],
   "source": [
    "#ここからデータの考察と欠損値に関する考察を行う事によりより高い精度で計算を行う事が出来るようになると考えている"
   ]
  },
  {
   "cell_type": "code",
   "execution_count": 17,
   "metadata": {},
   "outputs": [],
   "source": [
    "import re"
   ]
  },
  {
   "cell_type": "markdown",
   "metadata": {
    "collapsed": true
   },
   "source": [
    "###  名前の分析\n",
    "#### 名前についているtitle を取り新たにtitleの行を作り格納する"
   ]
  },
  {
   "cell_type": "code",
   "execution_count": 15,
   "metadata": {},
   "outputs": [],
   "source": [
    "train[\"Title\"]=np.zeros(train.shape[0],dtype=np.str)"
   ]
  },
  {
   "cell_type": "code",
   "execution_count": 18,
   "metadata": {},
   "outputs": [
    {
     "name": "stderr",
     "output_type": "stream",
     "text": [
      "/Users/Ken/anaconda3/lib/python3.6/site-packages/ipykernel_launcher.py:12: FutureWarning: set_value is deprecated and will be removed in a future release. Please use .at[] or .iat[] accessors instead\n",
      "  if sys.path[0] == '':\n"
     ]
    }
   ],
   "source": [
    "pattern = [\"Mr.\",\"Master.\",\"Ms.\",\"Miss.\",\"Mrs.\",\"Mme.\",\"Countess.\",\"Jonkheer.\",\"Don.\",\n",
    "           \"Rev.\",\"Dr.\",\"Col.\",\"Major.\",\"Capt.\",\"Mlle.\"]\n",
    "pattern_o = r\"Mr.\"\"|Master.\"\"|Ms.\"\"|Mrs.\"\"|Rev.\"\"|Dr.\"\"|Don.\"\"|Jonkheer.\"\"|Miss.\"\"|Countess.\"\"|Mme.\"\"|Col.\"\"|Major.\"\"|Mlle\"\"|Capt.\"\n",
    "repatter_o=re.compile(pattern_o)\n",
    "title_c =[]\n",
    "for h in range(len(pattern)):\n",
    "    c =0\n",
    "    repatter=re.compile(pattern[h])\n",
    "    for i in range(train.shape[0]):\n",
    "        matchOB = repatter.findall(train.Name[i])\n",
    "        if matchOB == [pattern[h]]:\n",
    "            train.set_value(index= i,col=\"Title\",value = pattern[h])\n",
    "            c += 1\n",
    "        else:\n",
    "            matchOB = repatter_o.findall(train.Name[i])\n",
    "            if matchOB ==[]:\n",
    "                train.set_value(index= i,col=\"Title\",value = \"other\")\n",
    "    title_c.append(c)"
   ]
  },
  {
   "cell_type": "markdown",
   "metadata": {},
   "source": [
    "####  名前と生存率の関係性について\n",
    "###### 他の特徴量についても同じような分析を行うため、関数として用意した"
   ]
  },
  {
   "cell_type": "code",
   "execution_count": 19,
   "metadata": {},
   "outputs": [],
   "source": [
    "df_train = train.drop([\"Name\",\"Ticket\"],axis=1)\n",
    "def ave_suv(C,mlp):\n",
    "    ave = []\n",
    "    for h in range(len(C)):\n",
    "        c0,c1 =0,0\n",
    "        for i in range(df_train.shape[0]):\n",
    "            if mlp[i] == C[h] and df_train.Survived[i]== 1: \n",
    "                c0 +=1\n",
    "            if mlp[i] == C[h]:\n",
    "                c1 += 1\n",
    "        print(C[h],c1,c0/c1)\n",
    "        ave.append(c0/c1)\n",
    "    a0 = 0\n",
    "    for i in range(df_train.shape[0]):\n",
    "        if df_train.Survived[i] == 1: \n",
    "            a0 +=1\n",
    "    print(\"Average\",a0/df_train.shape[0])\n",
    "    left = range(len(C))\n",
    "    label = C\n",
    "    average = ave\n",
    "    plt.figure(figsize=(12, 4), dpi=60)\n",
    "    plt.bar(left,height=ave, tick_label=label)\n",
    "    return ()"
   ]
  },
  {
   "cell_type": "code",
   "execution_count": 20,
   "metadata": {},
   "outputs": [
    {
     "name": "stdout",
     "output_type": "stream",
     "text": [
      "Mr. 514 0.15369649805447472\n",
      "Master. 40 0.575\n",
      "Ms. 1 1.0\n",
      "Miss. 182 0.6978021978021978\n",
      "Mrs. 125 0.792\n",
      "Mme. 1 1.0\n",
      "Countess. 1 1.0\n",
      "Jonkheer. 1 0.0\n",
      "Don. 1 0.0\n",
      "Rev. 6 0.0\n",
      "Dr. 7 0.42857142857142855\n",
      "Col. 2 0.5\n",
      "Major. 2 0.5\n",
      "Capt. 1 0.0\n",
      "Mlle. 2 1.0\n",
      "Average 0.3838383838383838\n"
     ]
    },
    {
     "data": {
      "text/plain": [
       "()"
      ]
     },
     "execution_count": 20,
     "metadata": {},
     "output_type": "execute_result"
    },
    {
     "data": {
      "image/png": "[encoded data removed]",
      "text/plain": [
       "<Figure size 720x240 with 1 Axes>"
      ]
     },
     "metadata": {},
     "output_type": "display_data"
    }
   ],
   "source": [
    "ave_suv(pattern,train.Title)"
   ]
  },
  {
   "cell_type": "markdown",
   "metadata": {},
   "source": [
    "#####  聖職者ＤＯＮやＲＥＶの死亡率は100％である事、若く、男性の方が死亡率が高い事が特徴的"
   ]
  },
  {
   "cell_type": "code",
   "execution_count": 21,
   "metadata": {},
   "outputs": [],
   "source": [
    "df_train= train.drop([\"Name\",\"SibSp\",\"Embarked\",\"Ticket\",\"Parch\",\"Cabin\"],axis=1)\n",
    "df_train = pd.get_dummies(df_train)\n",
    "df_train = df_train.dropna(axis=0,how='any')"
   ]
  },
  {
   "cell_type": "code",
   "execution_count": 22,
   "metadata": {},
   "outputs": [
    {
     "name": "stdout",
     "output_type": "stream",
     "text": [
      "maxtree score,depth: (0.8268156424581006, 4)\n",
      "maxforest score,depth: (0.7821229050279329, 8)\n",
      "maxforest_e score,depth: (0.8156424581005587, 5)\n",
      "maxsvc score,C,gamma (0.7877094972067039, 100, 0.001)\n",
      "mlp score: 0.7932960893854749\n",
      "best score: (0.8268156424581006, 4)\n"
     ]
    },
    {
     "data": {
      "text/plain": [
       "array([0.10489396, 0.22625124, 0.28025541, 0.        , 0.01252192,\n",
       "       0.00598086, 0.        , 0.        , 0.        , 0.        ,\n",
       "       0.        , 0.        , 0.        , 0.00531632, 0.01573093,\n",
       "       0.        , 0.        , 0.31736945, 0.        , 0.        ,\n",
       "       0.03167991])"
      ]
     },
     "execution_count": 22,
     "metadata": {},
     "output_type": "execute_result"
    },
    {
     "data": {
      "text/plain": [
       "<Figure size 432x288 with 0 Axes>"
      ]
     },
     "metadata": {},
     "output_type": "display_data"
    },
    {
     "data": {
      "image/png": "[encoded data removed]",
      "text/plain": [
       "<Figure size 720x240 with 1 Axes>"
      ]
     },
     "metadata": {},
     "output_type": "display_data"
    }
   ],
   "source": [
    "a= ba(df_train)\n",
    "main(a)\n",
    "a.tree()\n",
    "a.bar()"
   ]
  },
  {
   "cell_type": "markdown",
   "metadata": {},
   "source": [
    "#### 名前（title）と年齢に関して"
   ]
  },
  {
   "cell_type": "code",
   "execution_count": 23,
   "metadata": {},
   "outputs": [
    {
     "name": "stdout",
     "output_type": "stream",
     "text": [
      "[32.312658227848104, 4.574166666666667, 28.0, 21.773972602739725, 35.898148148148145, 24.0, 33.0, 38.0, 40.0, 43.166666666666664, 42.0, 58.0, 48.5, 70.0, 24.0] ['Mr.', 'Master.', 'Ms.', 'Miss.', 'Mrs.', 'Mme.', 'Countess.', 'Jonkheer.', 'Don.', 'Rev.', 'Dr.', 'Col.', 'Major.', 'Capt.', 'Mlle.']\n"
     ]
    }
   ],
   "source": [
    "df_train= train.drop([\"Name\",\"Ticket\"],axis=1)\n",
    "df_train=df_train.fillna(\"missing\")\n",
    "#あとで同じような作業をする際に一連の作業を関数に書き換えている\n",
    "age_ave=[]\n",
    "\n",
    "for h in range(len(pattern)):\n",
    "    c = 0\n",
    "    c1=0\n",
    "    for i in range(df_train.shape[0]):\n",
    "        if df_train.Age[i] !=\"missing\":\n",
    "            if df_train.Title[i] == pattern[h]:\n",
    "                c += df_train.Age[i]\n",
    "                c1 += 1\n",
    "    ave = c/c1\n",
    "    age_ave.append(ave)\n",
    "print(age_ave,pattern)"
   ]
  },
  {
   "cell_type": "code",
   "execution_count": 24,
   "metadata": {},
   "outputs": [
    {
     "name": "stderr",
     "output_type": "stream",
     "text": [
      "/Users/Ken/anaconda3/lib/python3.6/site-packages/ipykernel_launcher.py:6: FutureWarning: set_value is deprecated and will be removed in a future release. Please use .at[] or .iat[] accessors instead\n",
      "  \n"
     ]
    }
   ],
   "source": [
    "#平均値で欠損値を補う事は非常に安易な方法であるが、とりあえず試してみる\n",
    "for h in range(len(pattern)):\n",
    "    for i in range(df_train.shape[0]):\n",
    "        if df_train.Age[i] ==\"missing\":\n",
    "            if df_train.Title[i] == pattern[h]:\n",
    "                df_train.set_value(index= i,col=\"Age\",value = age_ave[h])"
   ]
  },
  {
   "cell_type": "markdown",
   "metadata": {},
   "source": [
    "##### 職種が似ているもの性質が似ていると考えられるものをまとめる\n",
    "##### 聖職者関係Rev,Don ⇒　Rev\n",
    "##### 貴族関係 Countess Jonkheer ⇒ Countess\n",
    "##### 軍関係者 Col,Major,Cap ⇒　Officer\n",
    "##### 若い女性　Ms Miss MLLE ⇒ Ms"
   ]
  },
  {
   "cell_type": "code",
   "execution_count": 25,
   "metadata": {},
   "outputs": [
    {
     "name": "stderr",
     "output_type": "stream",
     "text": [
      "/Users/Ken/anaconda3/lib/python3.6/site-packages/ipykernel_launcher.py:9: FutureWarning: set_value is deprecated and will be removed in a future release. Please use .at[] or .iat[] accessors instead\n",
      "  if __name__ == '__main__':\n",
      "/Users/Ken/anaconda3/lib/python3.6/site-packages/ipykernel_launcher.py:3: FutureWarning: set_value is deprecated and will be removed in a future release. Please use .at[] or .iat[] accessors instead\n",
      "  This is separate from the ipykernel package so we can avoid doing imports until\n",
      "/Users/Ken/anaconda3/lib/python3.6/site-packages/ipykernel_launcher.py:7: FutureWarning: set_value is deprecated and will be removed in a future release. Please use .at[] or .iat[] accessors instead\n",
      "  import sys\n",
      "/Users/Ken/anaconda3/lib/python3.6/site-packages/ipykernel_launcher.py:5: FutureWarning: set_value is deprecated and will be removed in a future release. Please use .at[] or .iat[] accessors instead\n",
      "  \"\"\"\n"
     ]
    }
   ],
   "source": [
    "for i in range(df_train.shape[0]):\n",
    "    if df_train.Title[i] == \"Don.\":\n",
    "        df_train.set_value(index= i,col=\"Title\",value = \"Rev.\")\n",
    "    if df_train.Title[i] == \"Jonkheer.\":\n",
    "        df_train.set_value(index= i,col=\"Title\",value = \"Countess.\")\n",
    "    if df_train.Title[i] == \"Major.\" or df_train.Title[i] == \"Col.\" or df_train.Title[i] == \"Capt.\":\n",
    "        df_train.set_value(index= i,col=\"Title\",value = \"Officer.\")\n",
    "    if df_train.Title[i] == \"Mlle.\" or df_train.Title[i] == \"Miss.\":\n",
    "        df_train.set_value(index= i,col=\"Title\",value = \"Ms.\")\n",
    "df_train_agefilled = df_train\n",
    "df_train= df_train.drop([\"Embarked\",\"Cabin\"],axis=1)"
   ]
  },
  {
   "cell_type": "code",
   "execution_count": 26,
   "metadata": {},
   "outputs": [
    {
     "name": "stdout",
     "output_type": "stream",
     "text": [
      "maxtree score,depth: (0.8116591928251121, 3)\n",
      "maxforest score,depth: (0.8251121076233184, 8)\n",
      "maxforest_e score,depth: (0.8116591928251121, 2)\n",
      "maxsvc score,C,gamma (0.7982062780269058, 100, 0.001)\n",
      "mlp score: 0.7982062780269058\n",
      "best score: (0.8251121076233184, 8)\n"
     ]
    }
   ],
   "source": [
    "df_train = pd.get_dummies(df_train)\n",
    "a = ba(df_train)\n",
    "main(a)"
   ]
  },
  {
   "cell_type": "code",
   "execution_count": null,
   "metadata": {
    "collapsed": true
   },
   "outputs": [],
   "source": []
  },
  {
   "cell_type": "markdown",
   "metadata": {},
   "source": [
    "##### どのモデルでもほとんど安定した結果を生み出せている"
   ]
  },
  {
   "cell_type": "code",
   "execution_count": 27,
   "metadata": {},
   "outputs": [
    {
     "data": {
      "text/plain": [
       "array([5.41741253e-02, 5.06559557e-02, 3.77214005e-02, 2.19689666e-01,\n",
       "       1.04506813e-01, 4.03528687e-02, 0.00000000e+00, 6.20907443e-04,\n",
       "       1.59289923e-03, 7.93498236e-04, 4.18135957e-04, 5.70928082e-03,\n",
       "       7.38619879e-03, 4.20281413e-03, 4.31171928e-03, 4.50329586e-04,\n",
       "       3.26356173e-03, 2.50142632e-04, 0.00000000e+00, 1.23859202e-03,\n",
       "       4.32990279e-03, 5.35919439e-04, 7.59589039e-04, 1.75170458e-03,\n",
       "       8.38368014e-06, 9.77653024e-05, 3.18316520e-03, 1.57479661e-03,\n",
       "       2.76921592e-03, 5.58546704e-03, 6.93240453e-03, 5.94133756e-03,\n",
       "       5.12069288e-03, 5.42229840e-05, 2.83633514e-03, 8.87925261e-03,\n",
       "       5.92086150e-03, 2.50772661e-03, 4.46105444e-05, 8.89305000e-03,\n",
       "       0.00000000e+00, 1.40943709e-02, 1.07697027e-02, 1.42491452e-02,\n",
       "       6.46877623e-03, 4.92888176e-04, 6.63027272e-03, 3.93648185e-03,\n",
       "       2.46611954e-03, 9.14219328e-03, 1.32974889e-02, 1.71273861e-02,\n",
       "       8.83350083e-05, 8.65818421e-04, 1.94695701e-03, 3.43551394e-05,\n",
       "       6.77575405e-03, 2.01291425e-03, 6.42119418e-03, 1.33979860e-05,\n",
       "       4.71024102e-03, 5.47432531e-03, 5.77263567e-03, 2.59312376e-03,\n",
       "       5.68068505e-04, 7.69474048e-04, 8.23307000e-03, 7.28186182e-04,\n",
       "       4.79856355e-03, 8.51368591e-03, 5.48288727e-05, 6.39668925e-04,\n",
       "       3.20051369e-03, 8.66497811e-03, 3.37556128e-03, 4.11007172e-03,\n",
       "       1.08843104e-03, 9.12399325e-04, 0.00000000e+00, 5.13385604e-04,\n",
       "       7.50302416e-04, 1.70599743e-05, 3.78730871e-04, 3.55875821e-03,\n",
       "       1.39591456e-04, 2.01173233e-04, 8.78807850e-05, 1.84092296e-04,\n",
       "       4.80290257e-04, 1.96434935e-04, 2.94735264e-04, 7.92819002e-04,\n",
       "       1.32678342e-05, 6.52260330e-05, 9.59890668e-05, 2.87403685e-05,\n",
       "       1.91925696e-04, 3.03221137e-03, 6.28634833e-03, 0.00000000e+00,\n",
       "       2.89331518e-03, 1.29892137e-02, 0.00000000e+00, 1.10485185e-01,\n",
       "       3.02887293e-02, 3.60161469e-02, 1.75192345e-03, 2.15983204e-03])"
      ]
     },
     "execution_count": 27,
     "metadata": {},
     "output_type": "execute_result"
    },
    {
     "data": {
      "text/plain": [
       "<Figure size 432x288 with 0 Axes>"
      ]
     },
     "metadata": {},
     "output_type": "display_data"
    },
    {
     "data": {
      "image/png": "[encoded data removed]",
      "text/plain": [
       "<Figure size 720x240 with 1 Axes>"
      ]
     },
     "metadata": {},
     "output_type": "display_data"
    }
   ],
   "source": [
    "a.forest(depth=8)\n",
    "a.bar()"
   ]
  },
  {
   "cell_type": "markdown",
   "metadata": {},
   "source": [
    "### Cabinの分析"
   ]
  },
  {
   "cell_type": "code",
   "execution_count": 28,
   "metadata": {},
   "outputs": [
    {
     "name": "stderr",
     "output_type": "stream",
     "text": [
      "/Users/Ken/anaconda3/lib/python3.6/site-packages/ipykernel_launcher.py:5: FutureWarning: set_value is deprecated and will be removed in a future release. Please use .at[] or .iat[] accessors instead\n",
      "  \"\"\"\n"
     ]
    }
   ],
   "source": [
    "df_train = train.drop([\"Name\",\"Ticket\"],axis=1)\n",
    "df_train=df_train.fillna('missing')\n",
    "df_train\n",
    "for i in range(df_train.shape[0]):\n",
    "    df_train.set_value(index= i,col=\"Cabin\",value = df_train.Cabin[i][0])"
   ]
  },
  {
   "cell_type": "code",
   "execution_count": 29,
   "metadata": {},
   "outputs": [
    {
     "name": "stdout",
     "output_type": "stream",
     "text": [
      "A 15 0.4666666666666667\n",
      "B 47 0.7446808510638298\n",
      "C 59 0.5932203389830508\n",
      "D 33 0.7575757575757576\n",
      "E 32 0.75\n",
      "F 13 0.6153846153846154\n",
      "G 4 0.5\n",
      "Average 0.3838383838383838\n"
     ]
    },
    {
     "data": {
      "text/plain": [
       "()"
      ]
     },
     "execution_count": 29,
     "metadata": {},
     "output_type": "execute_result"
    },
    {
     "data": {
      "image/png": "[encoded data removed]",
      "text/plain": [
       "<Figure size 720x240 with 1 Axes>"
      ]
     },
     "metadata": {},
     "output_type": "display_data"
    }
   ],
   "source": [
    "list_cabin = [\"A\",\"B\",\"C\",\"D\",\"E\",\"F\",\"G\"]\n",
    "ave_suv(list_cabin,df_train.Cabin)"
   ]
  },
  {
   "cell_type": "markdown",
   "metadata": {},
   "source": [
    "##### 全体の生存率としてCabinのデーターがある場合うはその生存率は高いと言える\n",
    "##### サンプル数が少ないため　生存率のグループ順に分けても面白いかもしれないＢＤＥ/ＣＦ/A,G"
   ]
  },
  {
   "cell_type": "code",
   "execution_count": 30,
   "metadata": {},
   "outputs": [],
   "source": [
    "df_train=df_train_agefilled"
   ]
  },
  {
   "cell_type": "code",
   "execution_count": 31,
   "metadata": {},
   "outputs": [
    {
     "name": "stderr",
     "output_type": "stream",
     "text": [
      "/Users/Ken/anaconda3/lib/python3.6/site-packages/ipykernel_launcher.py:3: FutureWarning: set_value is deprecated and will be removed in a future release. Please use .at[] or .iat[] accessors instead\n",
      "  This is separate from the ipykernel package so we can avoid doing imports until\n"
     ]
    }
   ],
   "source": [
    "df_train=df_train.fillna('missing')\n",
    "for i in range(df_train.shape[0]):\n",
    "    df_train.set_value(index= i,col=\"Cabin\",value = df_train.Cabin[i][0])\n",
    "df_train = pd.get_dummies(df_train)"
   ]
  },
  {
   "cell_type": "code",
   "execution_count": 32,
   "metadata": {},
   "outputs": [
    {
     "name": "stdout",
     "output_type": "stream",
     "text": [
      "maxtree score,depth: (0.8295964125560538, 7)\n",
      "maxforest score,depth: (0.8475336322869955, 25)\n",
      "maxforest_e score,depth: (0.8385650224215246, 3)\n",
      "maxsvc score,C,gamma (0.7982062780269058, 100, 0.001)\n",
      "mlp score: 0.8116591928251121\n",
      "best score: (0.8475336322869955, 25)\n"
     ]
    }
   ],
   "source": [
    "a0 = ba(df_train)\n",
    "main(a0)"
   ]
  },
  {
   "cell_type": "markdown",
   "metadata": {},
   "source": [
    "#### 精度が大きく飛躍している、過剰適合の少なからず可能性もある（シャッフル分割交差検証）\n",
    "##### グループ分けしたものを使ってみる"
   ]
  },
  {
   "cell_type": "code",
   "execution_count": 33,
   "metadata": {},
   "outputs": [
    {
     "name": "stderr",
     "output_type": "stream",
     "text": [
      "/Users/Ken/anaconda3/lib/python3.6/site-packages/ipykernel_launcher.py:5: FutureWarning: set_value is deprecated and will be removed in a future release. Please use .at[] or .iat[] accessors instead\n",
      "  \"\"\"\n",
      "/Users/Ken/anaconda3/lib/python3.6/site-packages/ipykernel_launcher.py:10: FutureWarning: set_value is deprecated and will be removed in a future release. Please use .at[] or .iat[] accessors instead\n",
      "  # Remove the CWD from sys.path while we load stuff.\n",
      "/Users/Ken/anaconda3/lib/python3.6/site-packages/ipykernel_launcher.py:8: FutureWarning: set_value is deprecated and will be removed in a future release. Please use .at[] or .iat[] accessors instead\n",
      "  \n",
      "/Users/Ken/anaconda3/lib/python3.6/site-packages/ipykernel_launcher.py:12: FutureWarning: set_value is deprecated and will be removed in a future release. Please use .at[] or .iat[] accessors instead\n",
      "  if sys.path[0] == '':\n"
     ]
    },
    {
     "name": "stdout",
     "output_type": "stream",
     "text": [
      "maxtree score,depth: (0.8295964125560538, 5)\n",
      "maxforest score,depth: (0.8430493273542601, 24)\n",
      "maxforest_e score,depth: (0.8609865470852018, 3)\n",
      "maxsvc score,C,gamma (0.7982062780269058, 100, 0.001)\n",
      "mlp score: 0.820627802690583\n",
      "best score: (0.8609865470852018, 3)\n"
     ]
    }
   ],
   "source": [
    "df_train=df_train_agefilled\n",
    "def cabin_conv(df_train):\n",
    "    df_train=df_train.fillna('missing')\n",
    "    for i in range(df_train.shape[0]):\n",
    "        df_train.set_value(index= i,col=\"Cabin\",value = df_train.Cabin[i][0])\n",
    "    for i in range(df_train.shape[0]):\n",
    "        if df_train.Cabin[i] == \"B\" or df_train.Cabin[i] == \"D\" or df_train.Cabin[i] == \"E\":\n",
    "            df_train.set_value(index= i,col=\"Cabin\",value = \"High\")\n",
    "        if df_train.Cabin[i] == \"C\" or df_train.Cabin[i] == \"F\":\n",
    "            df_train.set_value(index= i,col=\"Cabin\",value = \"Intermidiate\")\n",
    "        if df_train.Cabin[i] == \"A\" or df_train.Cabin[i] == \"G\":\n",
    "            df_train.set_value(index= i,col=\"Cabin\",value = \"Low\")\n",
    "    return(df_train)\n",
    "df_train = cabin_conv(df_train)\n",
    "df_train = pd.get_dummies(df_train)\n",
    "a0 = ba(df_train)\n",
    "main(a0)\n"
   ]
  },
  {
   "cell_type": "markdown",
   "metadata": {},
   "source": [
    "## さらに精度が上昇している！！！\n",
    "#### 過剰適合の可能性を否定できない\n",
    "##### 折角なので、スケールを調整したもので再度ニュートラルネットワークを行ってみたい"
   ]
  },
  {
   "cell_type": "code",
   "execution_count": 34,
   "metadata": {},
   "outputs": [
    {
     "data": {
      "text/plain": [
       "(0.83856502242152464, 70, 70)"
      ]
     },
     "execution_count": 34,
     "metadata": {},
     "output_type": "execute_result"
    }
   ],
   "source": [
    "# かなり長い計算時間が必要になってしまうので注意\n",
    "max_mlp_layer(a0.mlp)"
   ]
  },
  {
   "cell_type": "code",
   "execution_count": 35,
   "metadata": {},
   "outputs": [
    {
     "data": {
      "text/plain": [
       "(0.80717488789237668, 10, 10)"
      ]
     },
     "execution_count": 35,
     "metadata": {},
     "output_type": "execute_result"
    }
   ],
   "source": [
    "max_mlp_layer(a0.mlp_scaled)"
   ]
  },
  {
   "cell_type": "markdown",
   "metadata": {},
   "source": [
    "#### 残念ながら精度は上がらなかった"
   ]
  },
  {
   "cell_type": "markdown",
   "metadata": {},
   "source": [
    "#### Ticket とＣａｂｉｎの関係性について"
   ]
  },
  {
   "cell_type": "code",
   "execution_count": null,
   "metadata": {
    "collapsed": true
   },
   "outputs": [],
   "source": []
  },
  {
   "cell_type": "markdown",
   "metadata": {},
   "source": [
    "### Embarkedの分析"
   ]
  },
  {
   "cell_type": "code",
   "execution_count": 36,
   "metadata": {},
   "outputs": [
    {
     "name": "stdout",
     "output_type": "stream",
     "text": [
      "S 644 0.33695652173913043\n",
      "C 168 0.5535714285714286\n",
      "Q 77 0.38961038961038963\n",
      "Average 0.3838383838383838\n"
     ]
    },
    {
     "data": {
      "text/plain": [
       "()"
      ]
     },
     "execution_count": 36,
     "metadata": {},
     "output_type": "execute_result"
    },
    {
     "data": {
      "image/png": "[encoded data removed]",
      "text/plain": [
       "<matplotlib.figure.Figure at 0x20dea3583c8>"
      ]
     },
     "metadata": {},
     "output_type": "display_data"
    }
   ],
   "source": [
    "list_em=[\"S\",\"C\",\"Q\"]\n",
    "ave_suv(list_em,train.Embarked)"
   ]
  },
  {
   "cell_type": "markdown",
   "metadata": {},
   "source": [
    "##### 若干の偏りがある、特にＣに関しては0.1異常高いのが気になる⇒統計的優位性を検証するべき\n",
    "##### まず生死との相関関係について見てみる"
   ]
  },
  {
   "cell_type": "code",
   "execution_count": 37,
   "metadata": {
    "collapsed": true
   },
   "outputs": [],
   "source": [
    "df_train=pd.DataFrame([train.Survived,train.Embarked]).T\n",
    "df_train = pd.get_dummies(df_train)"
   ]
  },
  {
   "cell_type": "code",
   "execution_count": 38,
   "metadata": {},
   "outputs": [
    {
     "name": "stdout",
     "output_type": "stream",
     "text": [
      "[[ 1.          0.16824043]\n",
      " [ 0.16824043  1.        ]]\n",
      "[[ 1.         -0.15566027]\n",
      " [-0.15566027  1.        ]]\n",
      "[[ 1.          0.00365038]\n",
      " [ 0.00365038  1.        ]]\n"
     ]
    }
   ],
   "source": [
    "print(np.corrcoef(df_train.Survived_1,df_train.Embarked_C))\n",
    "print(np.corrcoef(df_train.Survived_1,df_train.Embarked_S))\n",
    "print(np.corrcoef(df_train.Survived_1,df_train.Embarked_Q))"
   ]
  },
  {
   "cell_type": "markdown",
   "metadata": {},
   "source": [
    "##### 非常に弱い相関関係のものしかないため、この特徴量では分類しにくい事が分かる\n",
    "#### Cabinと生死の相関についても考えて見る"
   ]
  },
  {
   "cell_type": "code",
   "execution_count": 39,
   "metadata": {},
   "outputs": [
    {
     "name": "stdout",
     "output_type": "stream",
     "text": [
      "[[ 1.          0.28549045]\n",
      " [ 0.28549045  1.        ]]\n",
      "[[ 1.          0.13009611]\n",
      " [ 0.13009611  1.        ]]\n",
      "[[ 1.          0.02727062]\n",
      " [ 0.02727062  1.        ]]\n",
      "[[ 1.         -0.31691152]\n",
      " [-0.31691152  1.        ]]\n"
     ]
    }
   ],
   "source": [
    "df_train=df_train_agefilled\n",
    "df_train = cabin_conv(df_train)\n",
    "df_train = pd.get_dummies(df_train)\n",
    "\n",
    "print(np.corrcoef(df_train.Survived,df_train.Cabin_High))\n",
    "print(np.corrcoef(df_train.Survived,df_train.Cabin_Intermidiate))\n",
    "print(np.corrcoef(df_train.Survived,df_train.Cabin_Low))\n",
    "print(np.corrcoef(df_train.Survived,df_train.Cabin_m))"
   ]
  },
  {
   "cell_type": "markdown",
   "metadata": {},
   "source": [
    "#### データーがない方が死ぬ確率が高く　一方で、Ｈｉｇｈでは相対的に高めの値が出ている"
   ]
  },
  {
   "cell_type": "markdown",
   "metadata": {},
   "source": [
    "## 3.欠損値に関する考察"
   ]
  },
  {
   "cell_type": "code",
   "execution_count": 40,
   "metadata": {},
   "outputs": [
    {
     "data": {
      "text/plain": [
       "Index(['PassengerId', 'Survived', 'Pclass', 'Name', 'Sex', 'Age', 'SibSp',\n",
       "       'Parch', 'Ticket', 'Fare', 'Cabin', 'Embarked', 'Title', 'count'],\n",
       "      dtype='object')"
      ]
     },
     "execution_count": 40,
     "metadata": {},
     "output_type": "execute_result"
    }
   ],
   "source": [
    "missing = train.copy()\n",
    "missing = missing.apply(pd.isnull, axis=0)\n",
    "missing['count'] = 1\n",
    "missing.columns"
   ]
  },
  {
   "cell_type": "code",
   "execution_count": 41,
   "metadata": {},
   "outputs": [
    {
     "data": {
      "text/html": [
       "<div>\n",
       "<style>\n",
       "    .dataframe thead tr:only-child th {\n",
       "        text-align: right;\n",
       "    }\n",
       "\n",
       "    .dataframe thead th {\n",
       "        text-align: left;\n",
       "    }\n",
       "\n",
       "    .dataframe tbody tr th {\n",
       "        vertical-align: top;\n",
       "    }\n",
       "</style>\n",
       "<table border=\"1\" class=\"dataframe\">\n",
       "  <thead>\n",
       "    <tr style=\"text-align: right;\">\n",
       "      <th></th>\n",
       "      <th></th>\n",
       "      <th></th>\n",
       "      <th></th>\n",
       "      <th></th>\n",
       "      <th></th>\n",
       "      <th></th>\n",
       "      <th>PassengerId</th>\n",
       "      <th>Survived</th>\n",
       "      <th>Pclass</th>\n",
       "      <th>Name</th>\n",
       "      <th>Sex</th>\n",
       "      <th>Title</th>\n",
       "      <th>count</th>\n",
       "    </tr>\n",
       "    <tr>\n",
       "      <th>Age</th>\n",
       "      <th>SibSp</th>\n",
       "      <th>Parch</th>\n",
       "      <th>Ticket</th>\n",
       "      <th>Fare</th>\n",
       "      <th>Cabin</th>\n",
       "      <th>Embarked</th>\n",
       "      <th></th>\n",
       "      <th></th>\n",
       "      <th></th>\n",
       "      <th></th>\n",
       "      <th></th>\n",
       "      <th></th>\n",
       "      <th></th>\n",
       "    </tr>\n",
       "  </thead>\n",
       "  <tbody>\n",
       "    <tr>\n",
       "      <th rowspan=\"3\" valign=\"top\">False</th>\n",
       "      <th rowspan=\"3\" valign=\"top\">False</th>\n",
       "      <th rowspan=\"3\" valign=\"top\">False</th>\n",
       "      <th rowspan=\"3\" valign=\"top\">False</th>\n",
       "      <th rowspan=\"3\" valign=\"top\">False</th>\n",
       "      <th rowspan=\"2\" valign=\"top\">False</th>\n",
       "      <th>False</th>\n",
       "      <td>False</td>\n",
       "      <td>False</td>\n",
       "      <td>False</td>\n",
       "      <td>False</td>\n",
       "      <td>False</td>\n",
       "      <td>False</td>\n",
       "      <td>183</td>\n",
       "    </tr>\n",
       "    <tr>\n",
       "      <th>True</th>\n",
       "      <td>False</td>\n",
       "      <td>False</td>\n",
       "      <td>False</td>\n",
       "      <td>False</td>\n",
       "      <td>False</td>\n",
       "      <td>False</td>\n",
       "      <td>2</td>\n",
       "    </tr>\n",
       "    <tr>\n",
       "      <th>True</th>\n",
       "      <th>False</th>\n",
       "      <td>False</td>\n",
       "      <td>False</td>\n",
       "      <td>False</td>\n",
       "      <td>False</td>\n",
       "      <td>False</td>\n",
       "      <td>False</td>\n",
       "      <td>529</td>\n",
       "    </tr>\n",
       "    <tr>\n",
       "      <th rowspan=\"2\" valign=\"top\">True</th>\n",
       "      <th rowspan=\"2\" valign=\"top\">False</th>\n",
       "      <th rowspan=\"2\" valign=\"top\">False</th>\n",
       "      <th rowspan=\"2\" valign=\"top\">False</th>\n",
       "      <th rowspan=\"2\" valign=\"top\">False</th>\n",
       "      <th>False</th>\n",
       "      <th>False</th>\n",
       "      <td>False</td>\n",
       "      <td>False</td>\n",
       "      <td>False</td>\n",
       "      <td>False</td>\n",
       "      <td>False</td>\n",
       "      <td>False</td>\n",
       "      <td>19</td>\n",
       "    </tr>\n",
       "    <tr>\n",
       "      <th>True</th>\n",
       "      <th>False</th>\n",
       "      <td>False</td>\n",
       "      <td>False</td>\n",
       "      <td>False</td>\n",
       "      <td>False</td>\n",
       "      <td>False</td>\n",
       "      <td>False</td>\n",
       "      <td>158</td>\n",
       "    </tr>\n",
       "  </tbody>\n",
       "</table>\n",
       "</div>"
      ],
      "text/plain": [
       "                                               PassengerId  Survived  Pclass  \\\n",
       "Age   SibSp Parch Ticket Fare  Cabin Embarked                                  \n",
       "False False False False  False False False           False     False   False   \n",
       "                                     True            False     False   False   \n",
       "                               True  False           False     False   False   \n",
       "True  False False False  False False False           False     False   False   \n",
       "                               True  False           False     False   False   \n",
       "\n",
       "                                                Name    Sex  Title  count  \n",
       "Age   SibSp Parch Ticket Fare  Cabin Embarked                              \n",
       "False False False False  False False False     False  False  False    183  \n",
       "                                     True      False  False  False      2  \n",
       "                               True  False     False  False  False    529  \n",
       "True  False False False  False False False     False  False  False     19  \n",
       "                               True  False     False  False  False    158  "
      ]
     },
     "execution_count": 41,
     "metadata": {},
     "output_type": "execute_result"
    }
   ],
   "source": [
    "missing.groupby([ 'Age', 'SibSp','Parch', 'Ticket', 'Fare', 'Cabin', 'Embarked']).sum()"
   ]
  },
  {
   "cell_type": "code",
   "execution_count": 42,
   "metadata": {
    "scrolled": true
   },
   "outputs": [
    {
     "data": {
      "text/html": [
       "<div>\n",
       "<style>\n",
       "    .dataframe thead tr:only-child th {\n",
       "        text-align: right;\n",
       "    }\n",
       "\n",
       "    .dataframe thead th {\n",
       "        text-align: left;\n",
       "    }\n",
       "\n",
       "    .dataframe tbody tr th {\n",
       "        vertical-align: top;\n",
       "    }\n",
       "</style>\n",
       "<table border=\"1\" class=\"dataframe\">\n",
       "  <thead>\n",
       "    <tr style=\"text-align: right;\">\n",
       "      <th>Cabin</th>\n",
       "      <th>False</th>\n",
       "      <th>True</th>\n",
       "    </tr>\n",
       "    <tr>\n",
       "      <th>Age</th>\n",
       "      <th></th>\n",
       "      <th></th>\n",
       "    </tr>\n",
       "  </thead>\n",
       "  <tbody>\n",
       "    <tr>\n",
       "      <th>False</th>\n",
       "      <td>185</td>\n",
       "      <td>529</td>\n",
       "    </tr>\n",
       "    <tr>\n",
       "      <th>True</th>\n",
       "      <td>19</td>\n",
       "      <td>158</td>\n",
       "    </tr>\n",
       "  </tbody>\n",
       "</table>\n",
       "</div>"
      ],
      "text/plain": [
       "Cabin  False  True \n",
       "Age                \n",
       "False    185    529\n",
       "True      19    158"
      ]
     },
     "execution_count": 42,
     "metadata": {},
     "output_type": "execute_result"
    }
   ],
   "source": [
    "missing.pivot_table(index='Age', columns='Cabin', values='count', aggfunc='sum')"
   ]
  },
  {
   "cell_type": "markdown",
   "metadata": {},
   "source": [
    "##### 基本的にＣａｂｉｎが分かっていなければＡＧＥも分かっていない事が多い\n",
    "##### Ｃａｂｉｎを分類する事で比較的精度が上昇した事から出来れば、Ｃａｂｉｎを落としたくないため、ＡＧＥの穴埋めに力を入れなくてはいけない"
   ]
  },
  {
   "cell_type": "markdown",
   "metadata": {
    "collapsed": true
   },
   "source": [
    "#### Age を平均値ではなく中央値,最頻値で補ってみる"
   ]
  },
  {
   "cell_type": "code",
   "execution_count": 43,
   "metadata": {},
   "outputs": [
    {
     "name": "stdout",
     "output_type": "stream",
     "text": [
      "mean\n",
      "maxtree score,depth: (0.82959641255605376, 7)\n",
      "maxforest score,depth: (0.84753363228699552, 20)\n",
      "maxforest_e score,depth: (0.86547085201793716, 3)\n",
      "maxsvc score,C,gamma (0.7982062780269058, 100, 0.001)\n",
      "mlp score: 0.825112107623\n",
      "best score: (0.86547085201793716, 3)\n",
      "median\n",
      "maxtree score,depth: (0.83856502242152464, 7)\n",
      "maxforest score,depth: (0.86098654708520184, 28)\n",
      "maxforest_e score,depth: (0.86098654708520184, 3)\n",
      "maxsvc score,C,gamma (0.7982062780269058, 100, 0.001)\n",
      "mlp score: 0.825112107623\n",
      "best score: (0.86098654708520184, 28)\n",
      "best score: (0.86098654708520184, 3)\n",
      "most frequent\n",
      "maxtree score,depth: (0.82959641255605376, 8)\n",
      "maxforest score,depth: (0.86547085201793716, 20)\n",
      "maxforest_e score,depth: (0.8565022421524664, 3)\n",
      "maxsvc score,C,gamma (0.78923766816143492, 100, 0.001)\n",
      "mlp score: 0.793721973094\n",
      "best score: (0.86547085201793716, 20)\n"
     ]
    }
   ],
   "source": [
    "df_train_n= train.drop([\"Name\",\"Ticket\"],axis=1)\n",
    "df_train_n=df_train_n.fillna(\"missing\")\n",
    "\n",
    "def fillnanage(df_train,method):\n",
    "    c=[]\n",
    "    for h in range(len(pattern)):\n",
    "        c.append([])\n",
    "        for i in range(df_train.shape[0]):\n",
    "            if df_train.Age[i] !=\"missing\":\n",
    "                if df_train.Title[i] == pattern[h]:\n",
    "                    c[h].append(df_train.Age[i])\n",
    "    for h in range(len(pattern)):\n",
    "        for i in range(df_train.shape[0]):\n",
    "            if df_train.Age[i] ==\"missing\":\n",
    "                if df_train.Title[i] == pattern[h]:\n",
    "                    df_train.set_value(index= i,col=\"Age\",value = method(c[h]))\n",
    "    for i in range(df_train.shape[0]):\n",
    "        df_train.set_value(index= i,col=\"Cabin\",value = df_train.Cabin[i][0])\n",
    "    df_train = cabin_conv(df_train)\n",
    "    df_train = pd.get_dummies(df_train)\n",
    "    a0 = ba(df_train)\n",
    "    main(a0)\n",
    "\n",
    "    \n",
    "print(\"mean\")\n",
    "fillnanage(df_train_n,np.mean)\n",
    "df_train_n= train.drop([\"Name\",\"Ticket\"],axis=1)\n",
    "df_train_n=df_train_n.fillna(\"missing\")\n",
    "print(\"median\")\n",
    "fillnanage(df_train_n,np.median)\n",
    "\n",
    "df_train_n= train.drop([\"Name\",\"Ticket\"],axis=1)\n",
    "df_train_n=df_train_n.fillna(\"missing\")\n",
    "from collections import Counter\n",
    "def fillnanagecount(df_train):\n",
    "    c=[]\n",
    "    for h in range(len(pattern)):\n",
    "        c.append([])\n",
    "        for i in range(df_train.shape[0]):\n",
    "            if df_train.Age[i] !=\"missing\":\n",
    "                if df_train.Title[i] == pattern[h]:\n",
    "                    c[h].append(df_train.Age[i])\n",
    "    for h in range(len(pattern)):\n",
    "        for i in range(df_train.shape[0]):\n",
    "            if df_train.Age[i] ==\"missing\":\n",
    "                if df_train.Title[i] == pattern[h]:\n",
    "                    mode = Counter(c[h])\n",
    "                    value = mode.most_common(1) \n",
    "                    df_train.set_value(index= i,col=\"Age\",value = value[0][0])\n",
    "    for i in range(df_train.shape[0]):\n",
    "        df_train.set_value(index= i,col=\"Cabin\",value = df_train.Cabin[i][0])\n",
    "    df_train = cabin_conv(df_train)\n",
    "    df_train = pd.get_dummies(df_train)\n",
    "    a0 = ba(df_train)\n",
    "    main(a0)\n",
    "print(\"most frequent\")\n",
    "fillnanagecount(df_train_n)"
   ]
  },
  {
   "cell_type": "markdown",
   "metadata": {},
   "source": [
    "#### 全体的には、中央値の場合が最も安定した結果を返している\n",
    "## 今回の検証の中で最も高い値0.865\n",
    "### ここからはどの特徴量を用いどれを用いないのかについて検討する必要性がある"
   ]
  },
  {
   "cell_type": "markdown",
   "metadata": {},
   "source": [
    "## 4.自動特徴量選択\n",
    "##### 下準備としてこれまで作ってきたデータを統合したものを作る"
   ]
  },
  {
   "cell_type": "code",
   "execution_count": 34,
   "metadata": {},
   "outputs": [
    {
     "name": "stderr",
     "output_type": "stream",
     "text": [
      "/Users/Ken/anaconda3/lib/python3.6/site-packages/ipykernel_launcher.py:8: FutureWarning: set_value is deprecated and will be removed in a future release. Please use .at[] or .iat[] accessors instead\n",
      "  \n",
      "/Users/Ken/anaconda3/lib/python3.6/site-packages/ipykernel_launcher.py:10: FutureWarning: set_value is deprecated and will be removed in a future release. Please use .at[] or .iat[] accessors instead\n",
      "  # Remove the CWD from sys.path while we load stuff.\n",
      "/Users/Ken/anaconda3/lib/python3.6/site-packages/ipykernel_launcher.py:18: FutureWarning: set_value is deprecated and will be removed in a future release. Please use .at[] or .iat[] accessors instead\n",
      "/Users/Ken/anaconda3/lib/python3.6/site-packages/ipykernel_launcher.py:12: FutureWarning: set_value is deprecated and will be removed in a future release. Please use .at[] or .iat[] accessors instead\n",
      "  if sys.path[0] == '':\n",
      "/Users/Ken/anaconda3/lib/python3.6/site-packages/ipykernel_launcher.py:16: FutureWarning: set_value is deprecated and will be removed in a future release. Please use .at[] or .iat[] accessors instead\n",
      "  app.launch_new_instance()\n",
      "/Users/Ken/anaconda3/lib/python3.6/site-packages/ipykernel_launcher.py:14: FutureWarning: set_value is deprecated and will be removed in a future release. Please use .at[] or .iat[] accessors instead\n",
      "  \n",
      "/Users/Ken/anaconda3/lib/python3.6/site-packages/ipykernel_launcher.py:28: FutureWarning: set_value is deprecated and will be removed in a future release. Please use .at[] or .iat[] accessors instead\n",
      "/Users/Ken/anaconda3/lib/python3.6/site-packages/ipykernel_launcher.py:24: FutureWarning: set_value is deprecated and will be removed in a future release. Please use .at[] or .iat[] accessors instead\n",
      "/Users/Ken/anaconda3/lib/python3.6/site-packages/ipykernel_launcher.py:22: FutureWarning: set_value is deprecated and will be removed in a future release. Please use .at[] or .iat[] accessors instead\n",
      "/Users/Ken/anaconda3/lib/python3.6/site-packages/ipykernel_launcher.py:26: FutureWarning: set_value is deprecated and will be removed in a future release. Please use .at[] or .iat[] accessors instead\n",
      "/Users/Ken/anaconda3/lib/python3.6/site-packages/ipykernel_launcher.py:45: FutureWarning: set_value is deprecated and will be removed in a future release. Please use .at[] or .iat[] accessors instead\n",
      "/Users/Ken/anaconda3/lib/python3.6/site-packages/ipykernel_launcher.py:43: FutureWarning: set_value is deprecated and will be removed in a future release. Please use .at[] or .iat[] accessors instead\n",
      "/Users/Ken/anaconda3/lib/python3.6/site-packages/ipykernel_launcher.py:53: FutureWarning: set_value is deprecated and will be removed in a future release. Please use .at[] or .iat[] accessors instead\n",
      "/Users/Ken/anaconda3/lib/python3.6/site-packages/ipykernel_launcher.py:61: FutureWarning: set_value is deprecated and will be removed in a future release. Please use .at[] or .iat[] accessors instead\n"
     ]
    }
   ],
   "source": [
    "df_train =  train.drop([\"Name\",\"Ticket\"],axis=1)\n",
    "df_train[\"Title_o\"]=np.zeros(train.shape[0],dtype=np.str)\n",
    "df_train[\"Cabin_group\"]=np.zeros(train.shape[0],dtype=np.str)\n",
    "df_train[\"Age_ave\"]=np.zeros(train.shape[0],dtype=np.str)\n",
    "df_train[\"Age_med\"]=np.zeros(train.shape[0],dtype=np.str)\n",
    "df_train=df_train.fillna(\"missing\")\n",
    "for i in range(df_train.shape[0]):\n",
    "    df_train.set_value(index= i,col=\"Cabin\",value = df_train.Cabin[i][0])\n",
    "for i in range(df_train.shape[0]):\n",
    "    df_train.set_value(index= i,col=\"Title_o\",value = df_train.Title[i] )\n",
    "    if df_train.Title[i] == \"Don.\":\n",
    "        df_train.set_value(index= i,col=\"Title_o\",value = \"Rev.\")\n",
    "    if df_train.Title[i] == \"Jonkheer.\":\n",
    "        df_train.set_value(index= i,col=\"Title_o\",value = \"Countess.\")\n",
    "    if df_train.Title[i] == \"Major.\" or df_train.Title[i] == \"Col.\" or df_train.Title[i] == \"Capt.\":\n",
    "        df_train.set_value(index= i,col=\"Title_o\",value = \"Officer.\")\n",
    "    if df_train.Title[i] == \"Mlle.\" or df_train.Title[i] == \"Miss.\":\n",
    "        df_train.set_value(index= i,col=\"Title_o\",value = \"Ms.\")\n",
    "def cabin_conv(df_train):\n",
    "    for i in range(df_train.shape[0]):\n",
    "        if df_train.Cabin[i] == \"B\" or df_train.Cabin[i] == \"D\" or df_train.Cabin[i] == \"E\":\n",
    "            df_train.set_value(index= i,col=\"Cabin_group\",value = \"High\")\n",
    "        if df_train.Cabin[i] == \"C\" or df_train.Cabin[i] == \"F\":\n",
    "            df_train.set_value(index= i,col=\"Cabin_group\",value = \"Intermidiate\")\n",
    "        if df_train.Cabin[i] == \"A\" or df_train.Cabin[i] == \"G\":\n",
    "            df_train.set_value(index= i,col=\"Cabin_group\",value = \"Low\")\n",
    "        else:\n",
    "            df_train.set_value(index= i,col=\"Cabin_group\",value = \"missing\")\n",
    "    return(df_train)\n",
    "df_train = cabin_conv(df_train)\n",
    "def fillnanage_ave(df_train):\n",
    "    c=[]\n",
    "    for h in range(len(pattern)):\n",
    "        c.append([])\n",
    "        for i in range(df_train.shape[0]):\n",
    "            if df_train.Age[i] !=\"missing\":\n",
    "                if df_train.Title[i] == pattern[h]:\n",
    "                    c[h].append(df_train.Age[i])\n",
    "    for h in range(len(pattern)):\n",
    "        for i in range(df_train.shape[0]):\n",
    "            if df_train.Age[i] ==\"missing\":\n",
    "                if df_train.Title[i] == pattern[h]:\n",
    "                    df_train.set_value(index= i,col=\"Age_ave\",value = int(np.mean(c[h])))\n",
    "            else:\n",
    "                df_train.set_value(index= i,col=\"Age_ave\",value =int(df_train.Age[i]))\n",
    "    return(df_train)\n",
    "df_train = fillnanage_ave(df_train)\n",
    "def fillnanage_med(df_train):\n",
    "    c=[]\n",
    "    for h in range(len(pattern)):\n",
    "        c.append([])\n",
    "        for i in range(df_train.shape[0]):\n",
    "            df_train.set_value(index= i,col=\"Age_med\",value = df_train.Age[i])\n",
    "            if df_train.Age[i] !=\"missing\":\n",
    "                if df_train.Title[i] == pattern[h]:\n",
    "                    c[h].append(df_train.Age[i])\n",
    "    for h in range(len(pattern)):\n",
    "        for i in range(df_train.shape[0]):\n",
    "            if df_train.Age[i] ==\"missing\":\n",
    "                if df_train.Title[i] == pattern[h]:\n",
    "                    df_train.set_value(index= i,col=\"Age_med\",value = np.median(c[h]))\n",
    "    return(df_train)\n",
    "df_train_n = fillnanage_med(df_train)"
   ]
  },
  {
   "cell_type": "code",
   "execution_count": 35,
   "metadata": {},
   "outputs": [],
   "source": [
    "df_train = pd.get_dummies(df_train_n)\n",
    "from sklearn.feature_selection import SelectFromModel"
   ]
  },
  {
   "cell_type": "markdown",
   "metadata": {},
   "source": [
    "### モデルデータベース特徴量選択"
   ]
  },
  {
   "cell_type": "code",
   "execution_count": 36,
   "metadata": {},
   "outputs": [
    {
     "data": {
      "text/plain": [
       "SelectFromModel(estimator=RandomForestClassifier(bootstrap=True, class_weight=None, criterion='gini',\n",
       "            max_depth=None, max_features='auto', max_leaf_nodes=None,\n",
       "            min_impurity_decrease=0.0, min_impurity_split=None,\n",
       "            min_samples_leaf=1, min_samples_split=2,\n",
       "            min_weight_fraction_leaf=0.0, n_estimators=100, n_jobs=1,\n",
       "            oob_score=False, random_state=42, verbose=0, warm_start=False),\n",
       "        norm_order=1, prefit=False, threshold='median')"
      ]
     },
     "execution_count": 36,
     "metadata": {},
     "output_type": "execute_result"
    }
   ],
   "source": [
    "select = SelectFromModel(RandomForestClassifier(n_estimators=100,random_state=42),threshold=\"median\")\n",
    "X_train,X_test,y_train,y_test= train_test_split(df_train.iloc[:,2:],df_train[\"Survived\"],random_state=0)\n",
    "select.fit(X_train,y_train)"
   ]
  },
  {
   "cell_type": "code",
   "execution_count": 37,
   "metadata": {},
   "outputs": [
    {
     "name": "stdout",
     "output_type": "stream",
     "text": [
      "X_train.shape:(668, 297)\n",
      "X_train_l1:(668, 149)\n"
     ]
    }
   ],
   "source": [
    "X_train_l1= select.transform(X_train)\n",
    "X_test_l1= select.transform(X_test)\n",
    "print(\"X_train.shape:{}\".format(X_train.shape))\n",
    "print(\"X_train_l1:{}\".format(X_train_l1.shape))"
   ]
  },
  {
   "cell_type": "markdown",
   "metadata": {},
   "source": [
    "##### 227中668選ばれた"
   ]
  },
  {
   "cell_type": "code",
   "execution_count": 38,
   "metadata": {},
   "outputs": [
    {
     "name": "stderr",
     "output_type": "stream",
     "text": [
      "/Users/Ken/anaconda3/lib/python3.6/site-packages/ipykernel_launcher.py:22: RuntimeWarning: divide by zero encountered in true_divide\n",
      "/Users/Ken/anaconda3/lib/python3.6/site-packages/ipykernel_launcher.py:22: RuntimeWarning: invalid value encountered in true_divide\n"
     ]
    },
    {
     "name": "stdout",
     "output_type": "stream",
     "text": [
      "maxtree score,depth: (0.8071748878923767, 4)\n",
      "maxforest score,depth: (0.8251121076233184, 9)\n",
      "maxforest_e score,depth: (0.8116591928251121, 5)\n",
      "maxsvc score,C,gamma (0.8116591928251121, 10, 0.1)\n",
      "mlp score: 0.7937219730941704\n",
      "best score: (0.8251121076233184, 9)\n"
     ]
    }
   ],
   "source": [
    "a = ba(df_train,train=X_train_l1,test=X_test_l1)\n",
    "main(a)"
   ]
  },
  {
   "cell_type": "markdown",
   "metadata": {},
   "source": [
    "#### 無駄なものを入れ過ぎたのでそぎ落とす"
   ]
  },
  {
   "cell_type": "code",
   "execution_count": 39,
   "metadata": {},
   "outputs": [
    {
     "name": "stdout",
     "output_type": "stream",
     "text": [
      "X_train.shape:(668, 32)\n",
      "X_train_l1:(668, 16)\n",
      "maxtree score,depth: (0.820627802690583, 4)\n",
      "maxforest score,depth: (0.8385650224215246, 14)\n",
      "maxforest_e score,depth: (0.8430493273542601, 5)\n",
      "maxsvc score,C,gamma (0.8026905829596412, 100, 0.001)\n",
      "mlp score: 0.8251121076233184\n",
      "best score: (0.8430493273542601, 5)\n"
     ]
    }
   ],
   "source": [
    "#df_train =  df_train.drop([\"Title_o\",\"Age_med\",\"Age\"],axis=1)\n",
    "df_train =  df_train_n.drop([\"Title\",\"Age_med\",\"Age\"],axis=1)\n",
    "cols = list(df_train.columns.values)\n",
    "df_train = df_train[['PassengerId','Survived','Age_ave','Pclass','Sex',\n",
    "                     'SibSp','Parch','Fare','Cabin','Embarked',\n",
    "                     'Title_o','Cabin_group']]\n",
    "def selectioncheck(df_train):\n",
    "    df_train = pd.concat([df_train.iloc[:,:3],pd.get_dummies(df_train.iloc[:,3:])],axis=1)\n",
    "    select = SelectFromModel(RandomForestClassifier(n_estimators=100,random_state=42),threshold=\"median\")\n",
    "    X_train,X_test,y_train,y_test= train_test_split(df_train.iloc[:,2:],df_train[\"Survived\"],random_state=0)\n",
    "    select.fit(X_train,y_train)\n",
    "    X_train_l1= select.transform(X_train)\n",
    "    X_test_l1= select.transform(X_test)\n",
    "    print(\"X_train.shape:{}\".format(X_train.shape))\n",
    "    print(\"X_train_l1:{}\".format(X_train_l1.shape))\n",
    "    a = ba(df_train,train=X_train_l1,test=X_test_l1)\n",
    "    main(a)\n",
    "selectioncheck(df_train)"
   ]
  },
  {
   "cell_type": "code",
   "execution_count": 40,
   "metadata": {},
   "outputs": [
    {
     "name": "stdout",
     "output_type": "stream",
     "text": [
      "X_train.shape:(668, 93)\n",
      "X_train_l1:(668, 47)\n"
     ]
    },
    {
     "name": "stderr",
     "output_type": "stream",
     "text": [
      "/Users/Ken/anaconda3/lib/python3.6/site-packages/ipykernel_launcher.py:22: RuntimeWarning: divide by zero encountered in true_divide\n",
      "/Users/Ken/anaconda3/lib/python3.6/site-packages/ipykernel_launcher.py:22: RuntimeWarning: invalid value encountered in true_divide\n"
     ]
    },
    {
     "name": "stdout",
     "output_type": "stream",
     "text": [
      "maxtree score,depth: (0.8116591928251121, 5)\n",
      "maxforest score,depth: (0.8475336322869955, 4)\n",
      "maxforest_e score,depth: (0.8161434977578476, 5)\n",
      "maxsvc score,C,gamma (0.820627802690583, 1, 1)\n",
      "mlp score: 0.7892376681614349\n",
      "best score: (0.8475336322869955, 4)\n"
     ]
    }
   ],
   "source": [
    "df_train =  df_train_n.drop([\"Title\",\"Age_med\",\"Age\",\"Cabin\"],axis=1)\n",
    "selectioncheck(df_train)"
   ]
  },
  {
   "cell_type": "code",
   "execution_count": 41,
   "metadata": {},
   "outputs": [
    {
     "name": "stdout",
     "output_type": "stream",
     "text": [
      "X_train.shape:(668, 99)\n",
      "X_train_l1:(668, 50)\n"
     ]
    },
    {
     "name": "stderr",
     "output_type": "stream",
     "text": [
      "/Users/Ken/anaconda3/lib/python3.6/site-packages/ipykernel_launcher.py:22: RuntimeWarning: divide by zero encountered in true_divide\n",
      "/Users/Ken/anaconda3/lib/python3.6/site-packages/ipykernel_launcher.py:22: RuntimeWarning: invalid value encountered in true_divide\n"
     ]
    },
    {
     "name": "stdout",
     "output_type": "stream",
     "text": [
      "maxtree score,depth: (0.8161434977578476, 5)\n",
      "maxforest score,depth: (0.8295964125560538, 16)\n",
      "maxforest_e score,depth: (0.8116591928251121, 3)\n",
      "maxsvc score,C,gamma (0.8251121076233184, 100, 0.1)\n",
      "mlp score: 0.8071748878923767\n",
      "best score: (0.8295964125560538, 16)\n"
     ]
    }
   ],
   "source": [
    "df_train =  df_train_n.drop([\"Title_o\",\"Age_med\",\"Age\",\"Cabin\"],axis=1)\n",
    "selectioncheck(df_train)"
   ]
  },
  {
   "cell_type": "markdown",
   "metadata": {},
   "source": [
    "### ここでこれまで一番高い値を出していたデータを使ってみる"
   ]
  },
  {
   "cell_type": "code",
   "execution_count": 42,
   "metadata": {},
   "outputs": [
    {
     "name": "stderr",
     "output_type": "stream",
     "text": [
      "/Users/Ken/anaconda3/lib/python3.6/site-packages/ipykernel_launcher.py:28: FutureWarning: set_value is deprecated and will be removed in a future release. Please use .at[] or .iat[] accessors instead\n",
      "/Users/Ken/anaconda3/lib/python3.6/site-packages/ipykernel_launcher.py:22: FutureWarning: set_value is deprecated and will be removed in a future release. Please use .at[] or .iat[] accessors instead\n"
     ]
    },
    {
     "name": "stdout",
     "output_type": "stream",
     "text": [
      "X_train.shape:(668, 261)\n",
      "X_train_l1:(668, 131)\n"
     ]
    },
    {
     "name": "stderr",
     "output_type": "stream",
     "text": [
      "/Users/Ken/anaconda3/lib/python3.6/site-packages/ipykernel_launcher.py:22: RuntimeWarning: divide by zero encountered in true_divide\n",
      "/Users/Ken/anaconda3/lib/python3.6/site-packages/ipykernel_launcher.py:22: RuntimeWarning: invalid value encountered in true_divide\n"
     ]
    },
    {
     "name": "stdout",
     "output_type": "stream",
     "text": [
      "maxtree score,depth: (0.8116591928251121, 3)\n",
      "maxforest score,depth: (0.8340807174887892, 24)\n",
      "maxforest_e score,depth: (0.8295964125560538, 5)\n",
      "maxsvc score,C,gamma (0.8161434977578476, 10, 0.1)\n",
      "mlp score: 0.7892376681614349\n",
      "best score: (0.8340807174887892, 24)\n"
     ]
    }
   ],
   "source": [
    "df_train=df_train_agefilled\n",
    "df_train = cabin_conv(df_train)\n",
    "df_train = pd.get_dummies(df_train)\n",
    "selectioncheck(df_train)"
   ]
  },
  {
   "cell_type": "markdown",
   "metadata": {},
   "source": [
    "####  特徴量選択の際にデータの数がそぎ落とされてしまい（891→668）精度が落ちていると考えらるが過剰適合を回避しているという面では優位なのかもしれない"
   ]
  },
  {
   "cell_type": "markdown",
   "metadata": {},
   "source": [
    "## 最も精度の高いモデル"
   ]
  },
  {
   "cell_type": "code",
   "execution_count": 44,
   "metadata": {},
   "outputs": [
    {
     "name": "stdout",
     "output_type": "stream",
     "text": [
      "test score: 0.8609865470852018\n"
     ]
    }
   ],
   "source": [
    "print(\"test score:\",a0.forest_ensemble(depth=3)[1])"
   ]
  },
  {
   "cell_type": "code",
   "execution_count": null,
   "metadata": {},
   "outputs": [],
   "source": []
  },
  {
   "cell_type": "code",
   "execution_count": null,
   "metadata": {},
   "outputs": [],
   "source": []
  },
  {
   "cell_type": "code",
   "execution_count": null,
   "metadata": {},
   "outputs": [],
   "source": []
  }
 ],
 "metadata": {
  "kernelspec": {
   "display_name": "Python 3",
   "language": "python",
   "name": "python3"
  },
  "language_info": {
   "codemirror_mode": {
    "name": "ipython",
    "version": 3
   },
   "file_extension": ".py",
   "mimetype": "text/x-python",
   "name": "python",
   "nbconvert_exporter": "python",
   "pygments_lexer": "ipython3",
   "version": "3.6.5"
  }
 },
 "nbformat": 4,
 "nbformat_minor": 2
}
